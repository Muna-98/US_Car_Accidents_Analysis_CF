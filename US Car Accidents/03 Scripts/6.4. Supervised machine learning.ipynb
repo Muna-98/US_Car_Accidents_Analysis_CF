{
 "cells": [
  {
   "cell_type": "markdown",
   "id": "5cf69ccb",
   "metadata": {},
   "source": [
    "### Contents\n",
    "    1. Importing libraries and data\n",
    "    2. Data check\n",
    "    3. Data prep for regression analysis\n",
    "    3. Regression analysis\n",
    "    4. Performance improvement after removing outliers  "
   ]
  },
  {
   "cell_type": "markdown",
   "id": "aafdab3d",
   "metadata": {},
   "source": [
    "# 01. Importing libraries and data"
   ]
  },
  {
   "cell_type": "code",
   "execution_count": 1,
   "id": "905eafd4",
   "metadata": {},
   "outputs": [],
   "source": [
    "#Importing libraries\n",
    "import pandas as pd\n",
    "import numpy as np\n",
    "import os\n",
    "import matplotlib.pyplot as plt\n",
    "import seaborn as sns\n",
    "import matplotlib\n",
    "import sklearn\n",
    "from sklearn.model_selection import train_test_split\n",
    "from sklearn.linear_model import LinearRegression\n",
    "from sklearn.metrics import mean_squared_error, r2_score"
   ]
  },
  {
   "cell_type": "code",
   "execution_count": 2,
   "id": "1f966d1a",
   "metadata": {},
   "outputs": [],
   "source": [
    "#Importing data \n",
    "path=r'C:\\Users\\munav\\Desktop\\bootcamps\\Achievement 6\\US Car Accidents'\n",
    "df=pd.read_pickle(os.path.join(path, '02 Data', 'Prepared Data', 'US_Car_Accidents_clean.pkl'))\n",
    "sub_day=pd.read_pickle(os.path.join(path, '02 Data', 'Prepared Data', 'City_accidents_per_day.pkl'))\n",
    "sub_hour=pd.read_pickle(os.path.join(path, '02 Data', 'Prepared Data', 'City_accidents_per_hour.pkl'))"
   ]
  },
  {
   "cell_type": "code",
   "execution_count": 3,
   "id": "76f56f61",
   "metadata": {},
   "outputs": [],
   "source": [
    "# This option ensures that the graphs you create are displayed within the notebook without the need to \"call\" them specifically.\n",
    "\n",
    "%matplotlib inline"
   ]
  },
  {
   "cell_type": "code",
   "execution_count": 4,
   "id": "565a8647",
   "metadata": {},
   "outputs": [
    {
     "data": {
      "text/plain": [
       "(2304260, 37)"
      ]
     },
     "execution_count": 4,
     "metadata": {},
     "output_type": "execute_result"
    }
   ],
   "source": [
    "#Checking the imported data\n",
    "df.shape"
   ]
  },
  {
   "cell_type": "code",
   "execution_count": 5,
   "id": "70ba96d2",
   "metadata": {},
   "outputs": [
    {
     "data": {
      "text/html": [
       "<div>\n",
       "<style scoped>\n",
       "    .dataframe tbody tr th:only-of-type {\n",
       "        vertical-align: middle;\n",
       "    }\n",
       "\n",
       "    .dataframe tbody tr th {\n",
       "        vertical-align: top;\n",
       "    }\n",
       "\n",
       "    .dataframe thead th {\n",
       "        text-align: right;\n",
       "    }\n",
       "</style>\n",
       "<table border=\"1\" class=\"dataframe\">\n",
       "  <thead>\n",
       "    <tr style=\"text-align: right;\">\n",
       "      <th></th>\n",
       "      <th>ID</th>\n",
       "      <th>Severity</th>\n",
       "      <th>Start_Time</th>\n",
       "      <th>Start_Lat</th>\n",
       "      <th>Start_Lng</th>\n",
       "      <th>Distance(mi)</th>\n",
       "      <th>City</th>\n",
       "      <th>County</th>\n",
       "      <th>State</th>\n",
       "      <th>Temperature(F)</th>\n",
       "      <th>...</th>\n",
       "      <th>Traffic_Calming</th>\n",
       "      <th>Traffic_Signal</th>\n",
       "      <th>Turning_Loop</th>\n",
       "      <th>Sunrise_Sunset</th>\n",
       "      <th>Region</th>\n",
       "      <th>Year</th>\n",
       "      <th>Month</th>\n",
       "      <th>Hour</th>\n",
       "      <th>Weather</th>\n",
       "      <th>Licensed_Drivers</th>\n",
       "    </tr>\n",
       "  </thead>\n",
       "  <tbody>\n",
       "    <tr>\n",
       "      <th>0</th>\n",
       "      <td>A-1</td>\n",
       "      <td>3</td>\n",
       "      <td>2016-02-08 00:37:08</td>\n",
       "      <td>40.108910</td>\n",
       "      <td>-83.092860</td>\n",
       "      <td>3.230</td>\n",
       "      <td>Dublin</td>\n",
       "      <td>Franklin</td>\n",
       "      <td>Ohio</td>\n",
       "      <td>42.099998</td>\n",
       "      <td>...</td>\n",
       "      <td>False</td>\n",
       "      <td>False</td>\n",
       "      <td>False</td>\n",
       "      <td>Night</td>\n",
       "      <td>Midwest</td>\n",
       "      <td>2016</td>\n",
       "      <td>2</td>\n",
       "      <td>1</td>\n",
       "      <td>Light</td>\n",
       "      <td>7974951.0</td>\n",
       "    </tr>\n",
       "    <tr>\n",
       "      <th>1</th>\n",
       "      <td>A-2</td>\n",
       "      <td>2</td>\n",
       "      <td>2016-02-08 05:56:20</td>\n",
       "      <td>39.865420</td>\n",
       "      <td>-84.062800</td>\n",
       "      <td>0.747</td>\n",
       "      <td>Dayton</td>\n",
       "      <td>Montgomery</td>\n",
       "      <td>Ohio</td>\n",
       "      <td>36.900002</td>\n",
       "      <td>...</td>\n",
       "      <td>False</td>\n",
       "      <td>False</td>\n",
       "      <td>False</td>\n",
       "      <td>Night</td>\n",
       "      <td>Midwest</td>\n",
       "      <td>2016</td>\n",
       "      <td>2</td>\n",
       "      <td>6</td>\n",
       "      <td>Light</td>\n",
       "      <td>7974951.0</td>\n",
       "    </tr>\n",
       "    <tr>\n",
       "      <th>2</th>\n",
       "      <td>A-3</td>\n",
       "      <td>2</td>\n",
       "      <td>2016-02-08 06:15:39</td>\n",
       "      <td>39.102660</td>\n",
       "      <td>-84.524680</td>\n",
       "      <td>0.055</td>\n",
       "      <td>Cincinnati</td>\n",
       "      <td>Hamilton</td>\n",
       "      <td>Ohio</td>\n",
       "      <td>36.000000</td>\n",
       "      <td>...</td>\n",
       "      <td>False</td>\n",
       "      <td>False</td>\n",
       "      <td>False</td>\n",
       "      <td>Night</td>\n",
       "      <td>Midwest</td>\n",
       "      <td>2016</td>\n",
       "      <td>2</td>\n",
       "      <td>6</td>\n",
       "      <td>Light</td>\n",
       "      <td>7974951.0</td>\n",
       "    </tr>\n",
       "    <tr>\n",
       "      <th>3</th>\n",
       "      <td>A-4</td>\n",
       "      <td>2</td>\n",
       "      <td>2016-02-08 06:51:45</td>\n",
       "      <td>41.062130</td>\n",
       "      <td>-81.537840</td>\n",
       "      <td>0.123</td>\n",
       "      <td>Akron</td>\n",
       "      <td>Summit</td>\n",
       "      <td>Ohio</td>\n",
       "      <td>39.000000</td>\n",
       "      <td>...</td>\n",
       "      <td>False</td>\n",
       "      <td>False</td>\n",
       "      <td>False</td>\n",
       "      <td>Night</td>\n",
       "      <td>Midwest</td>\n",
       "      <td>2016</td>\n",
       "      <td>2</td>\n",
       "      <td>7</td>\n",
       "      <td>Light</td>\n",
       "      <td>7974951.0</td>\n",
       "    </tr>\n",
       "    <tr>\n",
       "      <th>4</th>\n",
       "      <td>A-5</td>\n",
       "      <td>3</td>\n",
       "      <td>2016-02-08 07:53:43</td>\n",
       "      <td>39.172393</td>\n",
       "      <td>-84.492792</td>\n",
       "      <td>0.500</td>\n",
       "      <td>Cincinnati</td>\n",
       "      <td>Hamilton</td>\n",
       "      <td>Ohio</td>\n",
       "      <td>37.000000</td>\n",
       "      <td>...</td>\n",
       "      <td>False</td>\n",
       "      <td>False</td>\n",
       "      <td>False</td>\n",
       "      <td>Day</td>\n",
       "      <td>Midwest</td>\n",
       "      <td>2016</td>\n",
       "      <td>2</td>\n",
       "      <td>8</td>\n",
       "      <td>Light</td>\n",
       "      <td>7974951.0</td>\n",
       "    </tr>\n",
       "  </tbody>\n",
       "</table>\n",
       "<p>5 rows × 37 columns</p>\n",
       "</div>"
      ],
      "text/plain": [
       "    ID  Severity          Start_Time  Start_Lat  Start_Lng  Distance(mi)  \\\n",
       "0  A-1         3 2016-02-08 00:37:08  40.108910 -83.092860         3.230   \n",
       "1  A-2         2 2016-02-08 05:56:20  39.865420 -84.062800         0.747   \n",
       "2  A-3         2 2016-02-08 06:15:39  39.102660 -84.524680         0.055   \n",
       "3  A-4         2 2016-02-08 06:51:45  41.062130 -81.537840         0.123   \n",
       "4  A-5         3 2016-02-08 07:53:43  39.172393 -84.492792         0.500   \n",
       "\n",
       "         City      County State  Temperature(F)  ...  Traffic_Calming  \\\n",
       "0      Dublin    Franklin  Ohio       42.099998  ...            False   \n",
       "1      Dayton  Montgomery  Ohio       36.900002  ...            False   \n",
       "2  Cincinnati    Hamilton  Ohio       36.000000  ...            False   \n",
       "3       Akron      Summit  Ohio       39.000000  ...            False   \n",
       "4  Cincinnati    Hamilton  Ohio       37.000000  ...            False   \n",
       "\n",
       "   Traffic_Signal  Turning_Loop Sunrise_Sunset   Region  Year Month  Hour  \\\n",
       "0           False         False          Night  Midwest  2016     2     1   \n",
       "1           False         False          Night  Midwest  2016     2     6   \n",
       "2           False         False          Night  Midwest  2016     2     6   \n",
       "3           False         False          Night  Midwest  2016     2     7   \n",
       "4           False         False            Day  Midwest  2016     2     8   \n",
       "\n",
       "   Weather  Licensed_Drivers  \n",
       "0    Light         7974951.0  \n",
       "1    Light         7974951.0  \n",
       "2    Light         7974951.0  \n",
       "3    Light         7974951.0  \n",
       "4    Light         7974951.0  \n",
       "\n",
       "[5 rows x 37 columns]"
      ]
     },
     "execution_count": 5,
     "metadata": {},
     "output_type": "execute_result"
    }
   ],
   "source": [
    "df.head()"
   ]
  },
  {
   "cell_type": "code",
   "execution_count": 6,
   "id": "f7d9d271",
   "metadata": {},
   "outputs": [
    {
     "data": {
      "text/plain": [
       "(1001551, 14)"
      ]
     },
     "execution_count": 6,
     "metadata": {},
     "output_type": "execute_result"
    }
   ],
   "source": [
    "sub_day.shape"
   ]
  },
  {
   "cell_type": "code",
   "execution_count": 7,
   "id": "9fe0a889",
   "metadata": {},
   "outputs": [
    {
     "data": {
      "text/html": [
       "<div>\n",
       "<style scoped>\n",
       "    .dataframe tbody tr th:only-of-type {\n",
       "        vertical-align: middle;\n",
       "    }\n",
       "\n",
       "    .dataframe tbody tr th {\n",
       "        vertical-align: top;\n",
       "    }\n",
       "\n",
       "    .dataframe thead th {\n",
       "        text-align: right;\n",
       "    }\n",
       "</style>\n",
       "<table border=\"1\" class=\"dataframe\">\n",
       "  <thead>\n",
       "    <tr style=\"text-align: right;\">\n",
       "      <th></th>\n",
       "      <th>Date</th>\n",
       "      <th>State</th>\n",
       "      <th>County</th>\n",
       "      <th>City</th>\n",
       "      <th>City_accidents_per_day</th>\n",
       "      <th>Avg_temp_per_day</th>\n",
       "      <th>Avg_humid_per_day</th>\n",
       "      <th>Avg_pressure_per_day</th>\n",
       "      <th>Avg_visibility_per_day</th>\n",
       "      <th>Avg_windmph_per_day</th>\n",
       "      <th>Avg_precip_per_day</th>\n",
       "      <th>Avg_distance_per_day</th>\n",
       "      <th>Avg_severity_per_day</th>\n",
       "      <th>_merge</th>\n",
       "    </tr>\n",
       "  </thead>\n",
       "  <tbody>\n",
       "    <tr>\n",
       "      <th>0</th>\n",
       "      <td>2016-01-14</td>\n",
       "      <td>Pennsylvania</td>\n",
       "      <td>Lehigh</td>\n",
       "      <td>Whitehall</td>\n",
       "      <td>1</td>\n",
       "      <td>31.000000</td>\n",
       "      <td>69.0</td>\n",
       "      <td>29.530001</td>\n",
       "      <td>10.0</td>\n",
       "      <td>3.0</td>\n",
       "      <td>0.0</td>\n",
       "      <td>0.061</td>\n",
       "      <td>4.0</td>\n",
       "      <td>both</td>\n",
       "    </tr>\n",
       "    <tr>\n",
       "      <th>1</th>\n",
       "      <td>2016-02-08</td>\n",
       "      <td>Indiana</td>\n",
       "      <td>Allen</td>\n",
       "      <td>Roanoke</td>\n",
       "      <td>1</td>\n",
       "      <td>28.000000</td>\n",
       "      <td>88.0</td>\n",
       "      <td>29.709999</td>\n",
       "      <td>8.0</td>\n",
       "      <td>16.1</td>\n",
       "      <td>0.0</td>\n",
       "      <td>0.477</td>\n",
       "      <td>2.0</td>\n",
       "      <td>both</td>\n",
       "    </tr>\n",
       "    <tr>\n",
       "      <th>2</th>\n",
       "      <td>2016-02-08</td>\n",
       "      <td>Kentucky</td>\n",
       "      <td>Kenton</td>\n",
       "      <td>Ft Mitchell</td>\n",
       "      <td>1</td>\n",
       "      <td>26.600000</td>\n",
       "      <td>80.0</td>\n",
       "      <td>29.730000</td>\n",
       "      <td>3.0</td>\n",
       "      <td>13.8</td>\n",
       "      <td>0.0</td>\n",
       "      <td>0.471</td>\n",
       "      <td>3.0</td>\n",
       "      <td>both</td>\n",
       "    </tr>\n",
       "    <tr>\n",
       "      <th>3</th>\n",
       "      <td>2016-02-08</td>\n",
       "      <td>Ohio</td>\n",
       "      <td>Allen</td>\n",
       "      <td>Lima</td>\n",
       "      <td>1</td>\n",
       "      <td>39.000000</td>\n",
       "      <td>70.0</td>\n",
       "      <td>29.590000</td>\n",
       "      <td>10.0</td>\n",
       "      <td>11.5</td>\n",
       "      <td>NaN</td>\n",
       "      <td>0.491</td>\n",
       "      <td>2.0</td>\n",
       "      <td>both</td>\n",
       "    </tr>\n",
       "    <tr>\n",
       "      <th>4</th>\n",
       "      <td>2016-02-08</td>\n",
       "      <td>Ohio</td>\n",
       "      <td>Clermont</td>\n",
       "      <td>Williamsburg</td>\n",
       "      <td>1</td>\n",
       "      <td>35.599998</td>\n",
       "      <td>100.0</td>\n",
       "      <td>29.660000</td>\n",
       "      <td>10.0</td>\n",
       "      <td>8.1</td>\n",
       "      <td>NaN</td>\n",
       "      <td>1.427</td>\n",
       "      <td>2.0</td>\n",
       "      <td>both</td>\n",
       "    </tr>\n",
       "  </tbody>\n",
       "</table>\n",
       "</div>"
      ],
      "text/plain": [
       "        Date         State    County          City  City_accidents_per_day  \\\n",
       "0 2016-01-14  Pennsylvania    Lehigh     Whitehall                       1   \n",
       "1 2016-02-08       Indiana     Allen       Roanoke                       1   \n",
       "2 2016-02-08      Kentucky    Kenton   Ft Mitchell                       1   \n",
       "3 2016-02-08          Ohio     Allen          Lima                       1   \n",
       "4 2016-02-08          Ohio  Clermont  Williamsburg                       1   \n",
       "\n",
       "   Avg_temp_per_day  Avg_humid_per_day  Avg_pressure_per_day  \\\n",
       "0         31.000000               69.0             29.530001   \n",
       "1         28.000000               88.0             29.709999   \n",
       "2         26.600000               80.0             29.730000   \n",
       "3         39.000000               70.0             29.590000   \n",
       "4         35.599998              100.0             29.660000   \n",
       "\n",
       "   Avg_visibility_per_day  Avg_windmph_per_day  Avg_precip_per_day  \\\n",
       "0                    10.0                  3.0                 0.0   \n",
       "1                     8.0                 16.1                 0.0   \n",
       "2                     3.0                 13.8                 0.0   \n",
       "3                    10.0                 11.5                 NaN   \n",
       "4                    10.0                  8.1                 NaN   \n",
       "\n",
       "   Avg_distance_per_day  Avg_severity_per_day _merge  \n",
       "0                 0.061                   4.0   both  \n",
       "1                 0.477                   2.0   both  \n",
       "2                 0.471                   3.0   both  \n",
       "3                 0.491                   2.0   both  \n",
       "4                 1.427                   2.0   both  "
      ]
     },
     "execution_count": 7,
     "metadata": {},
     "output_type": "execute_result"
    }
   ],
   "source": [
    "sub_day.head()"
   ]
  },
  {
   "cell_type": "code",
   "execution_count": 8,
   "id": "0dbe38ce",
   "metadata": {},
   "outputs": [
    {
     "data": {
      "text/plain": [
       "(1749243, 16)"
      ]
     },
     "execution_count": 8,
     "metadata": {},
     "output_type": "execute_result"
    }
   ],
   "source": [
    "sub_hour.shape"
   ]
  },
  {
   "cell_type": "code",
   "execution_count": 9,
   "id": "c40548c6",
   "metadata": {},
   "outputs": [
    {
     "data": {
      "text/html": [
       "<div>\n",
       "<style scoped>\n",
       "    .dataframe tbody tr th:only-of-type {\n",
       "        vertical-align: middle;\n",
       "    }\n",
       "\n",
       "    .dataframe tbody tr th {\n",
       "        vertical-align: top;\n",
       "    }\n",
       "\n",
       "    .dataframe thead th {\n",
       "        text-align: right;\n",
       "    }\n",
       "</style>\n",
       "<table border=\"1\" class=\"dataframe\">\n",
       "  <thead>\n",
       "    <tr style=\"text-align: right;\">\n",
       "      <th></th>\n",
       "      <th>Date</th>\n",
       "      <th>Hour</th>\n",
       "      <th>State</th>\n",
       "      <th>County</th>\n",
       "      <th>City</th>\n",
       "      <th>City_accidents_per_hour</th>\n",
       "      <th>Avg_temp_per_hour</th>\n",
       "      <th>Avg_humid_per_hour</th>\n",
       "      <th>Avg_pressure_per_hour</th>\n",
       "      <th>Avg_visibility_per_hour</th>\n",
       "      <th>Avg_windmph_per_hour</th>\n",
       "      <th>Avg_precip_per_hour</th>\n",
       "      <th>Avg_distance_per_hour</th>\n",
       "      <th>Avg_severity_per_hour</th>\n",
       "      <th>_merge</th>\n",
       "      <th>Temp_category</th>\n",
       "    </tr>\n",
       "  </thead>\n",
       "  <tbody>\n",
       "    <tr>\n",
       "      <th>0</th>\n",
       "      <td>2016-01-14</td>\n",
       "      <td>20</td>\n",
       "      <td>Pennsylvania</td>\n",
       "      <td>Lehigh</td>\n",
       "      <td>Whitehall</td>\n",
       "      <td>1</td>\n",
       "      <td>31.000000</td>\n",
       "      <td>69.0</td>\n",
       "      <td>29.530001</td>\n",
       "      <td>10.0</td>\n",
       "      <td>3.0</td>\n",
       "      <td>0.00</td>\n",
       "      <td>0.061</td>\n",
       "      <td>4.0</td>\n",
       "      <td>both</td>\n",
       "      <td>Very Cold</td>\n",
       "    </tr>\n",
       "    <tr>\n",
       "      <th>1</th>\n",
       "      <td>2016-02-08</td>\n",
       "      <td>1</td>\n",
       "      <td>Ohio</td>\n",
       "      <td>Franklin</td>\n",
       "      <td>Dublin</td>\n",
       "      <td>1</td>\n",
       "      <td>42.099998</td>\n",
       "      <td>58.0</td>\n",
       "      <td>29.760000</td>\n",
       "      <td>10.0</td>\n",
       "      <td>10.4</td>\n",
       "      <td>0.00</td>\n",
       "      <td>3.230</td>\n",
       "      <td>3.0</td>\n",
       "      <td>both</td>\n",
       "      <td>Normal</td>\n",
       "    </tr>\n",
       "    <tr>\n",
       "      <th>2</th>\n",
       "      <td>2016-02-08</td>\n",
       "      <td>6</td>\n",
       "      <td>Ohio</td>\n",
       "      <td>Hamilton</td>\n",
       "      <td>Cincinnati</td>\n",
       "      <td>1</td>\n",
       "      <td>36.000000</td>\n",
       "      <td>97.0</td>\n",
       "      <td>29.700001</td>\n",
       "      <td>10.0</td>\n",
       "      <td>NaN</td>\n",
       "      <td>0.02</td>\n",
       "      <td>0.055</td>\n",
       "      <td>2.0</td>\n",
       "      <td>both</td>\n",
       "      <td>Normal</td>\n",
       "    </tr>\n",
       "    <tr>\n",
       "      <th>3</th>\n",
       "      <td>2016-02-08</td>\n",
       "      <td>6</td>\n",
       "      <td>Ohio</td>\n",
       "      <td>Montgomery</td>\n",
       "      <td>Dayton</td>\n",
       "      <td>1</td>\n",
       "      <td>36.900002</td>\n",
       "      <td>91.0</td>\n",
       "      <td>29.680000</td>\n",
       "      <td>10.0</td>\n",
       "      <td>NaN</td>\n",
       "      <td>0.02</td>\n",
       "      <td>0.747</td>\n",
       "      <td>2.0</td>\n",
       "      <td>both</td>\n",
       "      <td>Normal</td>\n",
       "    </tr>\n",
       "    <tr>\n",
       "      <th>4</th>\n",
       "      <td>2016-02-08</td>\n",
       "      <td>7</td>\n",
       "      <td>Ohio</td>\n",
       "      <td>Summit</td>\n",
       "      <td>Akron</td>\n",
       "      <td>1</td>\n",
       "      <td>39.000000</td>\n",
       "      <td>55.0</td>\n",
       "      <td>29.650000</td>\n",
       "      <td>10.0</td>\n",
       "      <td>NaN</td>\n",
       "      <td>NaN</td>\n",
       "      <td>0.123</td>\n",
       "      <td>2.0</td>\n",
       "      <td>both</td>\n",
       "      <td>Normal</td>\n",
       "    </tr>\n",
       "  </tbody>\n",
       "</table>\n",
       "</div>"
      ],
      "text/plain": [
       "        Date  Hour         State      County        City  \\\n",
       "0 2016-01-14    20  Pennsylvania      Lehigh   Whitehall   \n",
       "1 2016-02-08     1          Ohio    Franklin      Dublin   \n",
       "2 2016-02-08     6          Ohio    Hamilton  Cincinnati   \n",
       "3 2016-02-08     6          Ohio  Montgomery      Dayton   \n",
       "4 2016-02-08     7          Ohio      Summit       Akron   \n",
       "\n",
       "   City_accidents_per_hour  Avg_temp_per_hour  Avg_humid_per_hour  \\\n",
       "0                        1          31.000000                69.0   \n",
       "1                        1          42.099998                58.0   \n",
       "2                        1          36.000000                97.0   \n",
       "3                        1          36.900002                91.0   \n",
       "4                        1          39.000000                55.0   \n",
       "\n",
       "   Avg_pressure_per_hour  Avg_visibility_per_hour  Avg_windmph_per_hour  \\\n",
       "0              29.530001                     10.0                   3.0   \n",
       "1              29.760000                     10.0                  10.4   \n",
       "2              29.700001                     10.0                   NaN   \n",
       "3              29.680000                     10.0                   NaN   \n",
       "4              29.650000                     10.0                   NaN   \n",
       "\n",
       "   Avg_precip_per_hour  Avg_distance_per_hour  Avg_severity_per_hour _merge  \\\n",
       "0                 0.00                  0.061                    4.0   both   \n",
       "1                 0.00                  3.230                    3.0   both   \n",
       "2                 0.02                  0.055                    2.0   both   \n",
       "3                 0.02                  0.747                    2.0   both   \n",
       "4                  NaN                  0.123                    2.0   both   \n",
       "\n",
       "  Temp_category  \n",
       "0     Very Cold  \n",
       "1        Normal  \n",
       "2        Normal  \n",
       "3        Normal  \n",
       "4        Normal  "
      ]
     },
     "execution_count": 9,
     "metadata": {},
     "output_type": "execute_result"
    }
   ],
   "source": [
    "sub_hour.head()"
   ]
  },
  {
   "cell_type": "markdown",
   "id": "32ca940d",
   "metadata": {},
   "source": [
    "# 02. Data check"
   ]
  },
  {
   "cell_type": "markdown",
   "id": "32cf83fc",
   "metadata": {},
   "source": [
    "#### The data was checked for mixed data types and duplicate values in previous exercises."
   ]
  },
  {
   "cell_type": "code",
   "execution_count": 10,
   "id": "fd788330",
   "metadata": {},
   "outputs": [
    {
     "data": {
      "text/plain": [
       "Date                            0\n",
       "Hour                            0\n",
       "State                           0\n",
       "County                          0\n",
       "City                            0\n",
       "City_accidents_per_hour         0\n",
       "Avg_temp_per_hour           45882\n",
       "Avg_humid_per_hour          48284\n",
       "Avg_pressure_per_hour       39407\n",
       "Avg_visibility_per_hour     47355\n",
       "Avg_windmph_per_hour       115264\n",
       "Avg_precip_per_hour        283681\n",
       "Avg_distance_per_hour           0\n",
       "Avg_severity_per_hour           0\n",
       "_merge                          0\n",
       "Temp_category               45882\n",
       "dtype: int64"
      ]
     },
     "execution_count": 10,
     "metadata": {},
     "output_type": "execute_result"
    }
   ],
   "source": [
    "#Check for missing values\n",
    "sub_hour.isnull().sum()"
   ]
  },
  {
   "cell_type": "code",
   "execution_count": 11,
   "id": "542925de",
   "metadata": {},
   "outputs": [],
   "source": [
    "sub_hour=sub_hour.dropna(subset=['Avg_temp_per_hour', 'Avg_visibility_per_hour' ])"
   ]
  },
  {
   "cell_type": "code",
   "execution_count": 12,
   "id": "b158f199",
   "metadata": {},
   "outputs": [
    {
     "data": {
      "text/plain": [
       "(1694728, 16)"
      ]
     },
     "execution_count": 12,
     "metadata": {},
     "output_type": "execute_result"
    }
   ],
   "source": [
    "sub_hour.shape"
   ]
  },
  {
   "cell_type": "code",
   "execution_count": 13,
   "id": "7c9dd714",
   "metadata": {},
   "outputs": [
    {
     "name": "stderr",
     "output_type": "stream",
     "text": [
      "C:\\Users\\munav\\anaconda3\\lib\\site-packages\\seaborn\\distributions.py:2619: FutureWarning: `distplot` is a deprecated function and will be removed in a future version. Please adapt your code to use either `displot` (a figure-level function with similar flexibility) or `histplot` (an axes-level function for histograms).\n",
      "  warnings.warn(msg, FutureWarning)\n"
     ]
    },
    {
     "data": {
      "text/plain": [
       "<AxesSubplot:xlabel='Avg_temp_per_hour', ylabel='Density'>"
      ]
     },
     "execution_count": 13,
     "metadata": {},
     "output_type": "execute_result"
    },
    {
     "data": {
      "image/png": "[encoded data removed]",
      "text/plain": [
       "<Figure size 432x288 with 1 Axes>"
      ]
     },
     "metadata": {
      "needs_background": "light"
     },
     "output_type": "display_data"
    }
   ],
   "source": [
    "#Checking for extreme variables\n",
    "sns.distplot(sub_hour['Avg_temp_per_hour'], bins=20)"
   ]
  },
  {
   "cell_type": "code",
   "execution_count": 14,
   "id": "3a7eae46",
   "metadata": {},
   "outputs": [
    {
     "name": "stderr",
     "output_type": "stream",
     "text": [
      "C:\\Users\\munav\\anaconda3\\lib\\site-packages\\seaborn\\distributions.py:2619: FutureWarning: `distplot` is a deprecated function and will be removed in a future version. Please adapt your code to use either `displot` (a figure-level function with similar flexibility) or `histplot` (an axes-level function for histograms).\n",
      "  warnings.warn(msg, FutureWarning)\n"
     ]
    },
    {
     "data": {
      "text/plain": [
       "<AxesSubplot:xlabel='City_accidents_per_hour', ylabel='Density'>"
      ]
     },
     "execution_count": 14,
     "metadata": {},
     "output_type": "execute_result"
    },
    {
     "data": {
      "image/png": "[encoded data removed]",
      "text/plain": [
       "<Figure size 432x288 with 1 Axes>"
      ]
     },
     "metadata": {
      "needs_background": "light"
     },
     "output_type": "display_data"
    }
   ],
   "source": [
    "sns.distplot(sub_hour['City_accidents_per_hour'], bins=20)"
   ]
  },
  {
   "cell_type": "markdown",
   "id": "63c398d2",
   "metadata": {},
   "source": [
    "# 03. Data prep for regression analysis"
   ]
  },
  {
   "cell_type": "code",
   "execution_count": 15,
   "id": "d1bf1feb",
   "metadata": {},
   "outputs": [
    {
     "data": {
      "image/png": "[encoded data removed]",
      "text/plain": [
       "<Figure size 432x288 with 1 Axes>"
      ]
     },
     "metadata": {
      "needs_background": "light"
     },
     "output_type": "display_data"
    }
   ],
   "source": [
    "# Create a scatterplot using matplotlib for another look at how the chosen variables plot against each other.\n",
    "\n",
    "sub_hour.plot(x = 'Avg_temp_per_hour', y='City_accidents_per_hour',style='o') # The style option creates a scatterplot; without it, we only have lines.\n",
    "plt.title('Average temperature vs accidents per hour')  \n",
    "plt.xlabel('Avreage temperature (F)')  \n",
    "plt.ylabel('Number of accidents')  \n",
    "plt.show()"
   ]
  },
  {
   "cell_type": "code",
   "execution_count": 16,
   "id": "9d6fd5f5",
   "metadata": {},
   "outputs": [
    {
     "data": {
      "image/png": "[encoded data removed]",
      "text/plain": [
       "<Figure size 432x288 with 1 Axes>"
      ]
     },
     "metadata": {
      "needs_background": "light"
     },
     "output_type": "display_data"
    }
   ],
   "source": [
    "sub_hour.plot(x = 'Avg_visibility_per_hour', y='City_accidents_per_hour',style='o') # The style option creates a scatterplot; without it, we only have lines.\n",
    "plt.title('Average visibility vs average distance')  \n",
    "plt.xlabel('Avreage visibility')  \n",
    "plt.ylabel('City_accidents_per_hour')  \n",
    "plt.show()"
   ]
  },
  {
   "cell_type": "code",
   "execution_count": 17,
   "id": "8dd09a8f",
   "metadata": {},
   "outputs": [],
   "source": [
    "# Reshape the variables into NumPy arrays and put them into separate objects.\n",
    "\n",
    "X = sub_hour['Avg_temp_per_hour'].values.reshape(-1,1)\n",
    "y = sub_hour['City_accidents_per_hour'].values.reshape(-1,1)"
   ]
  },
  {
   "cell_type": "code",
   "execution_count": 18,
   "id": "f7993721",
   "metadata": {},
   "outputs": [
    {
     "data": {
      "text/plain": [
       "array([[31. ],\n",
       "       [42.1],\n",
       "       [36. ],\n",
       "       ...,\n",
       "       [69. ],\n",
       "       [77. ],\n",
       "       [56. ]], dtype=float32)"
      ]
     },
     "execution_count": 18,
     "metadata": {},
     "output_type": "execute_result"
    }
   ],
   "source": [
    "X"
   ]
  },
  {
   "cell_type": "code",
   "execution_count": 19,
   "id": "e5d16e9d",
   "metadata": {},
   "outputs": [
    {
     "data": {
      "text/plain": [
       "array([[1],\n",
       "       [1],\n",
       "       [1],\n",
       "       ...,\n",
       "       [1],\n",
       "       [2],\n",
       "       [1]], dtype=int64)"
      ]
     },
     "execution_count": 19,
     "metadata": {},
     "output_type": "execute_result"
    }
   ],
   "source": [
    "y"
   ]
  },
  {
   "cell_type": "code",
   "execution_count": 20,
   "id": "9360b0c1",
   "metadata": {},
   "outputs": [],
   "source": [
    "# Split data into a training set and a test set.\n",
    "\n",
    "X_train, X_test, y_train, y_test = train_test_split(X, y, test_size=0.3, random_state=0)"
   ]
  },
  {
   "cell_type": "markdown",
   "id": "2b70b5d7",
   "metadata": {},
   "source": [
    "# 04. Regression analysis"
   ]
  },
  {
   "cell_type": "code",
   "execution_count": 21,
   "id": "7b317606",
   "metadata": {},
   "outputs": [],
   "source": [
    "# Create a regression object.\n",
    "\n",
    "regression = LinearRegression()"
   ]
  },
  {
   "cell_type": "code",
   "execution_count": 22,
   "id": "edad6208",
   "metadata": {},
   "outputs": [
    {
     "data": {
      "text/plain": [
       "LinearRegression()"
      ]
     },
     "execution_count": 22,
     "metadata": {},
     "output_type": "execute_result"
    }
   ],
   "source": [
    "# Fit the regression object onto the training set.\n",
    "\n",
    "regression.fit(X_train, y_train)"
   ]
  },
  {
   "cell_type": "code",
   "execution_count": 23,
   "id": "c0d57492",
   "metadata": {},
   "outputs": [],
   "source": [
    "# Predict the values of y using X.\n",
    "\n",
    "y_predicted = regression.predict(X_test)"
   ]
  },
  {
   "cell_type": "code",
   "execution_count": 24,
   "id": "38664a61",
   "metadata": {},
   "outputs": [
    {
     "data": {
      "image/png": "[encoded data removed]",
      "text/plain": [
       "<Figure size 432x288 with 1 Axes>"
      ]
     },
     "metadata": {
      "needs_background": "light"
     },
     "output_type": "display_data"
    }
   ],
   "source": [
    "# Create a plot that shows the regression line from the model on the test set.\n",
    "\n",
    "plot_test = plt\n",
    "plot_test.scatter(X_test, y_test, color='gray', s = 15)\n",
    "plot_test.plot(X_test, y_predicted, color='red', linewidth =3)\n",
    "plot_test.title('Average temperatrure (F) vs number of accidents per hour (Test set)')\n",
    "plot_test.xlabel('Average temperatrure (F)')\n",
    "plot_test.ylabel('Number of accidents per hour')\n",
    "plot_test.show()"
   ]
  },
  {
   "cell_type": "code",
   "execution_count": 25,
   "id": "705449d0",
   "metadata": {},
   "outputs": [],
   "source": [
    "# Create objects that contain the model summary statistics.\n",
    "\n",
    "rmse = mean_squared_error(y_test, y_predicted) # This is the mean squared error\n",
    "r2 = r2_score(y_test, y_predicted) # This is the R2 score. "
   ]
  },
  {
   "cell_type": "code",
   "execution_count": 26,
   "id": "9d60b70b",
   "metadata": {},
   "outputs": [
    {
     "name": "stdout",
     "output_type": "stream",
     "text": [
      "Slope: [[0.00347333]]\n",
      "Mean squared error:  1.0876019021291794\n",
      "R2 score:  0.003851034799921771\n"
     ]
    }
   ],
   "source": [
    "# Print the model summary statistics. This is where you evaluate the performance of the model.\n",
    "\n",
    "print('Slope:' ,regression.coef_)\n",
    "print('Mean squared error: ', rmse)\n",
    "print('R2 score: ', r2)"
   ]
  },
  {
   "cell_type": "markdown",
   "id": "ed40075d",
   "metadata": {},
   "source": [
    "#### The slope is 0.0034 which is economically insignificant. The Mean squared error seems to be small, but seeing that most of the numbers of accidents are around 1-3, it is a pretty high value. R2 score of 0.0038 means that the model explains only 0.3% of the variation in the variable, which is an extremely low indicator. Overall, we can state that this model is a poor fit."
   ]
  },
  {
   "cell_type": "code",
   "execution_count": 27,
   "id": "c249e646",
   "metadata": {},
   "outputs": [
    {
     "data": {
      "text/plain": [
       "array([[1.3284514],\n",
       "       [1.4104221],\n",
       "       [1.4191054],\n",
       "       ...,\n",
       "       [1.2992755],\n",
       "       [1.2645421],\n",
       "       [1.2645421]], dtype=float32)"
      ]
     },
     "execution_count": 27,
     "metadata": {},
     "output_type": "execute_result"
    }
   ],
   "source": [
    "y_predicted"
   ]
  },
  {
   "cell_type": "code",
   "execution_count": 28,
   "id": "15e7e8fb",
   "metadata": {},
   "outputs": [
    {
     "data": {
      "text/html": [
       "<div>\n",
       "<style scoped>\n",
       "    .dataframe tbody tr th:only-of-type {\n",
       "        vertical-align: middle;\n",
       "    }\n",
       "\n",
       "    .dataframe tbody tr th {\n",
       "        vertical-align: top;\n",
       "    }\n",
       "\n",
       "    .dataframe thead th {\n",
       "        text-align: right;\n",
       "    }\n",
       "</style>\n",
       "<table border=\"1\" class=\"dataframe\">\n",
       "  <thead>\n",
       "    <tr style=\"text-align: right;\">\n",
       "      <th></th>\n",
       "      <th>Actual</th>\n",
       "      <th>Predicted</th>\n",
       "    </tr>\n",
       "  </thead>\n",
       "  <tbody>\n",
       "    <tr>\n",
       "      <th>0</th>\n",
       "      <td>5</td>\n",
       "      <td>1.328451</td>\n",
       "    </tr>\n",
       "    <tr>\n",
       "      <th>1</th>\n",
       "      <td>1</td>\n",
       "      <td>1.410422</td>\n",
       "    </tr>\n",
       "    <tr>\n",
       "      <th>2</th>\n",
       "      <td>2</td>\n",
       "      <td>1.419105</td>\n",
       "    </tr>\n",
       "    <tr>\n",
       "      <th>3</th>\n",
       "      <td>1</td>\n",
       "      <td>1.233282</td>\n",
       "    </tr>\n",
       "    <tr>\n",
       "      <th>4</th>\n",
       "      <td>1</td>\n",
       "      <td>1.226336</td>\n",
       "    </tr>\n",
       "    <tr>\n",
       "      <th>5</th>\n",
       "      <td>1</td>\n",
       "      <td>1.351375</td>\n",
       "    </tr>\n",
       "    <tr>\n",
       "      <th>6</th>\n",
       "      <td>3</td>\n",
       "      <td>1.284224</td>\n",
       "    </tr>\n",
       "    <tr>\n",
       "      <th>7</th>\n",
       "      <td>1</td>\n",
       "      <td>1.335398</td>\n",
       "    </tr>\n",
       "    <tr>\n",
       "      <th>8</th>\n",
       "      <td>1</td>\n",
       "      <td>1.320115</td>\n",
       "    </tr>\n",
       "    <tr>\n",
       "      <th>9</th>\n",
       "      <td>1</td>\n",
       "      <td>1.288855</td>\n",
       "    </tr>\n",
       "    <tr>\n",
       "      <th>10</th>\n",
       "      <td>1</td>\n",
       "      <td>1.344081</td>\n",
       "    </tr>\n",
       "    <tr>\n",
       "      <th>11</th>\n",
       "      <td>1</td>\n",
       "      <td>1.403475</td>\n",
       "    </tr>\n",
       "    <tr>\n",
       "      <th>12</th>\n",
       "      <td>1</td>\n",
       "      <td>1.271489</td>\n",
       "    </tr>\n",
       "    <tr>\n",
       "      <th>13</th>\n",
       "      <td>1</td>\n",
       "      <td>1.208969</td>\n",
       "    </tr>\n",
       "    <tr>\n",
       "      <th>14</th>\n",
       "      <td>1</td>\n",
       "      <td>1.297886</td>\n",
       "    </tr>\n",
       "    <tr>\n",
       "      <th>15</th>\n",
       "      <td>1</td>\n",
       "      <td>1.323589</td>\n",
       "    </tr>\n",
       "    <tr>\n",
       "      <th>16</th>\n",
       "      <td>2</td>\n",
       "      <td>1.323589</td>\n",
       "    </tr>\n",
       "    <tr>\n",
       "      <th>17</th>\n",
       "      <td>1</td>\n",
       "      <td>1.382635</td>\n",
       "    </tr>\n",
       "    <tr>\n",
       "      <th>18</th>\n",
       "      <td>1</td>\n",
       "      <td>1.340955</td>\n",
       "    </tr>\n",
       "    <tr>\n",
       "      <th>19</th>\n",
       "      <td>1</td>\n",
       "      <td>1.393055</td>\n",
       "    </tr>\n",
       "    <tr>\n",
       "      <th>20</th>\n",
       "      <td>1</td>\n",
       "      <td>1.254122</td>\n",
       "    </tr>\n",
       "    <tr>\n",
       "      <th>21</th>\n",
       "      <td>2</td>\n",
       "      <td>1.406949</td>\n",
       "    </tr>\n",
       "    <tr>\n",
       "      <th>22</th>\n",
       "      <td>1</td>\n",
       "      <td>1.372215</td>\n",
       "    </tr>\n",
       "    <tr>\n",
       "      <th>23</th>\n",
       "      <td>1</td>\n",
       "      <td>1.375689</td>\n",
       "    </tr>\n",
       "    <tr>\n",
       "      <th>24</th>\n",
       "      <td>1</td>\n",
       "      <td>1.393055</td>\n",
       "    </tr>\n",
       "    <tr>\n",
       "      <th>25</th>\n",
       "      <td>1</td>\n",
       "      <td>1.386109</td>\n",
       "    </tr>\n",
       "    <tr>\n",
       "      <th>26</th>\n",
       "      <td>2</td>\n",
       "      <td>1.316642</td>\n",
       "    </tr>\n",
       "    <tr>\n",
       "      <th>27</th>\n",
       "      <td>1</td>\n",
       "      <td>1.268016</td>\n",
       "    </tr>\n",
       "    <tr>\n",
       "      <th>28</th>\n",
       "      <td>1</td>\n",
       "      <td>1.261069</td>\n",
       "    </tr>\n",
       "    <tr>\n",
       "      <th>29</th>\n",
       "      <td>1</td>\n",
       "      <td>1.302749</td>\n",
       "    </tr>\n",
       "  </tbody>\n",
       "</table>\n",
       "</div>"
      ],
      "text/plain": [
       "    Actual  Predicted\n",
       "0        5   1.328451\n",
       "1        1   1.410422\n",
       "2        2   1.419105\n",
       "3        1   1.233282\n",
       "4        1   1.226336\n",
       "5        1   1.351375\n",
       "6        3   1.284224\n",
       "7        1   1.335398\n",
       "8        1   1.320115\n",
       "9        1   1.288855\n",
       "10       1   1.344081\n",
       "11       1   1.403475\n",
       "12       1   1.271489\n",
       "13       1   1.208969\n",
       "14       1   1.297886\n",
       "15       1   1.323589\n",
       "16       2   1.323589\n",
       "17       1   1.382635\n",
       "18       1   1.340955\n",
       "19       1   1.393055\n",
       "20       1   1.254122\n",
       "21       2   1.406949\n",
       "22       1   1.372215\n",
       "23       1   1.375689\n",
       "24       1   1.393055\n",
       "25       1   1.386109\n",
       "26       2   1.316642\n",
       "27       1   1.268016\n",
       "28       1   1.261069\n",
       "29       1   1.302749"
      ]
     },
     "execution_count": 28,
     "metadata": {},
     "output_type": "execute_result"
    }
   ],
   "source": [
    "# Create a dataframe comparing the actual and predicted values of y.\n",
    "\n",
    "data = pd.DataFrame({'Actual': y_test.flatten(), 'Predicted': y_predicted.flatten()})\n",
    "data.head(30)"
   ]
  },
  {
   "cell_type": "markdown",
   "id": "4c4a8d9f",
   "metadata": {},
   "source": [
    "#### The comparison of actual and predicted values proves that the model does a poor job at predicting the number of car accidents."
   ]
  },
  {
   "cell_type": "code",
   "execution_count": 29,
   "id": "5fe8051b",
   "metadata": {},
   "outputs": [],
   "source": [
    "# Predicting the training dataset to compare it to testing dataset to check if the model is overfitted\n",
    "\n",
    "y_predicted_train = regression.predict(X_train) # This is predicting X_train!"
   ]
  },
  {
   "cell_type": "code",
   "execution_count": 30,
   "id": "de16d05e",
   "metadata": {},
   "outputs": [],
   "source": [
    "rmse = mean_squared_error(y_train, y_predicted_train)\n",
    "r2 = r2_score(y_train, y_predicted_train)"
   ]
  },
  {
   "cell_type": "code",
   "execution_count": 31,
   "id": "99ef7fb9",
   "metadata": {},
   "outputs": [
    {
     "name": "stdout",
     "output_type": "stream",
     "text": [
      "Slope: [[0.00347333]]\n",
      "Mean squared error:  1.085678225677635\n",
      "R2 score:  0.003836175930242436\n"
     ]
    }
   ],
   "source": [
    "print('Slope:' ,regression.coef_)\n",
    "print('Mean squared error: ', rmse)\n",
    "print('R2 score: ', r2)"
   ]
  },
  {
   "cell_type": "markdown",
   "id": "41bfabe9",
   "metadata": {},
   "source": [
    "#### We can see that the model performance statistics for the training dataset is almost similar to the testing dataset and the model is not overfitted. The model does a poor job at explaining the variations in car accidents number. We can assume that the temperature itself does not explain the variations in car accidents number, there other factors which should be included into the model."
   ]
  },
  {
   "cell_type": "code",
   "execution_count": 32,
   "id": "8b7c2bc9",
   "metadata": {},
   "outputs": [
    {
     "data": {
      "image/png": "[encoded data removed]",
      "text/plain": [
       "<Figure size 432x288 with 1 Axes>"
      ]
     },
     "metadata": {
      "needs_background": "light"
     },
     "output_type": "display_data"
    }
   ],
   "source": [
    "# Visualizing the training set results.\n",
    "\n",
    "plot_test = plt\n",
    "plot_test.scatter(X_train, y_train, color='green', s = 15)\n",
    "plot_test.plot(X_train, y_predicted_train, color='red', linewidth =3)\n",
    "plot_test.title('Average temperature (F) vs Number of car accidents (Train set)')\n",
    "plot_test.xlabel('Average temperature (F)')\n",
    "plot_test.ylabel('Number of car accidents')\n",
    "plot_test.show()"
   ]
  },
  {
   "cell_type": "markdown",
   "id": "9513c61f",
   "metadata": {},
   "source": []
  },
  {
   "cell_type": "markdown",
   "id": "c853357a",
   "metadata": {},
   "source": []
  },
  {
   "cell_type": "markdown",
   "id": "78024596",
   "metadata": {},
   "source": []
  },
  {
   "cell_type": "markdown",
   "id": "345a6a1d",
   "metadata": {},
   "source": []
  },
  {
   "cell_type": "markdown",
   "id": "2d750c3c",
   "metadata": {},
   "source": [
    "#### New Hypothesis to test: The data exploration in previous exercises has led to another hypothesis to test: Proportion of severe accidents increases as the weather worsens (precipitation increases, temperature is too hot or too cold and etc)."
   ]
  },
  {
   "cell_type": "code",
   "execution_count": 33,
   "id": "efcdf7b6",
   "metadata": {},
   "outputs": [
    {
     "data": {
      "text/plain": [
       "(108671, 37)"
      ]
     },
     "execution_count": 33,
     "metadata": {},
     "output_type": "execute_result"
    }
   ],
   "source": [
    "#Subsetting the data with severe(severity-4) accidents per hour in each city\n",
    "sub_severe=df.loc[df['Severity']==4]\n",
    "sub_severe.shape"
   ]
  },
  {
   "cell_type": "code",
   "execution_count": 34,
   "id": "e703b1bc",
   "metadata": {},
   "outputs": [
    {
     "data": {
      "text/html": [
       "<div>\n",
       "<style scoped>\n",
       "    .dataframe tbody tr th:only-of-type {\n",
       "        vertical-align: middle;\n",
       "    }\n",
       "\n",
       "    .dataframe tbody tr th {\n",
       "        vertical-align: top;\n",
       "    }\n",
       "\n",
       "    .dataframe thead th {\n",
       "        text-align: right;\n",
       "    }\n",
       "</style>\n",
       "<table border=\"1\" class=\"dataframe\">\n",
       "  <thead>\n",
       "    <tr style=\"text-align: right;\">\n",
       "      <th></th>\n",
       "      <th>ID</th>\n",
       "      <th>Severity</th>\n",
       "      <th>Start_Time</th>\n",
       "      <th>Start_Lat</th>\n",
       "      <th>Start_Lng</th>\n",
       "      <th>Distance(mi)</th>\n",
       "      <th>City</th>\n",
       "      <th>County</th>\n",
       "      <th>State</th>\n",
       "      <th>Temperature(F)</th>\n",
       "      <th>...</th>\n",
       "      <th>Traffic_Calming</th>\n",
       "      <th>Traffic_Signal</th>\n",
       "      <th>Turning_Loop</th>\n",
       "      <th>Sunrise_Sunset</th>\n",
       "      <th>Region</th>\n",
       "      <th>Year</th>\n",
       "      <th>Month</th>\n",
       "      <th>Hour</th>\n",
       "      <th>Weather</th>\n",
       "      <th>Licensed_Drivers</th>\n",
       "    </tr>\n",
       "  </thead>\n",
       "  <tbody>\n",
       "    <tr>\n",
       "      <th>19</th>\n",
       "      <td>A-20</td>\n",
       "      <td>4</td>\n",
       "      <td>2016-02-08 21:00:17</td>\n",
       "      <td>41.679361</td>\n",
       "      <td>-83.573037</td>\n",
       "      <td>0.978</td>\n",
       "      <td>Toledo</td>\n",
       "      <td>Lucas</td>\n",
       "      <td>Ohio</td>\n",
       "      <td>33.400002</td>\n",
       "      <td>...</td>\n",
       "      <td>False</td>\n",
       "      <td>False</td>\n",
       "      <td>False</td>\n",
       "      <td>Night</td>\n",
       "      <td>Midwest</td>\n",
       "      <td>2016</td>\n",
       "      <td>2</td>\n",
       "      <td>21</td>\n",
       "      <td>Light</td>\n",
       "      <td>7974951.0</td>\n",
       "    </tr>\n",
       "    <tr>\n",
       "      <th>26</th>\n",
       "      <td>A-27</td>\n",
       "      <td>4</td>\n",
       "      <td>2016-02-09 07:28:15</td>\n",
       "      <td>39.775720</td>\n",
       "      <td>-84.048150</td>\n",
       "      <td>2.484</td>\n",
       "      <td>Fairborn</td>\n",
       "      <td>Greene</td>\n",
       "      <td>Ohio</td>\n",
       "      <td>23.000000</td>\n",
       "      <td>...</td>\n",
       "      <td>False</td>\n",
       "      <td>False</td>\n",
       "      <td>False</td>\n",
       "      <td>Night</td>\n",
       "      <td>Midwest</td>\n",
       "      <td>2016</td>\n",
       "      <td>2</td>\n",
       "      <td>7</td>\n",
       "      <td>Moderate</td>\n",
       "      <td>7974951.0</td>\n",
       "    </tr>\n",
       "    <tr>\n",
       "      <th>39</th>\n",
       "      <td>A-40</td>\n",
       "      <td>4</td>\n",
       "      <td>2016-02-09 15:33:59</td>\n",
       "      <td>40.156298</td>\n",
       "      <td>-83.018431</td>\n",
       "      <td>0.206</td>\n",
       "      <td>Lewis Center</td>\n",
       "      <td>Delaware</td>\n",
       "      <td>Ohio</td>\n",
       "      <td>26.600000</td>\n",
       "      <td>...</td>\n",
       "      <td>False</td>\n",
       "      <td>False</td>\n",
       "      <td>False</td>\n",
       "      <td>Day</td>\n",
       "      <td>Midwest</td>\n",
       "      <td>2016</td>\n",
       "      <td>2</td>\n",
       "      <td>16</td>\n",
       "      <td>Moderate</td>\n",
       "      <td>7974951.0</td>\n",
       "    </tr>\n",
       "    <tr>\n",
       "      <th>42</th>\n",
       "      <td>A-43</td>\n",
       "      <td>4</td>\n",
       "      <td>2016-02-09 18:20:58</td>\n",
       "      <td>40.451120</td>\n",
       "      <td>-85.150480</td>\n",
       "      <td>6.690</td>\n",
       "      <td>Dunkirk</td>\n",
       "      <td>Jay</td>\n",
       "      <td>Indiana</td>\n",
       "      <td>19.900000</td>\n",
       "      <td>...</td>\n",
       "      <td>False</td>\n",
       "      <td>False</td>\n",
       "      <td>False</td>\n",
       "      <td>Night</td>\n",
       "      <td>Midwest</td>\n",
       "      <td>2016</td>\n",
       "      <td>2</td>\n",
       "      <td>18</td>\n",
       "      <td>Moderate</td>\n",
       "      <td>4553259.0</td>\n",
       "    </tr>\n",
       "    <tr>\n",
       "      <th>43</th>\n",
       "      <td>A-44</td>\n",
       "      <td>4</td>\n",
       "      <td>2016-02-09 18:20:58</td>\n",
       "      <td>40.354290</td>\n",
       "      <td>-85.149930</td>\n",
       "      <td>6.690</td>\n",
       "      <td>Redkey</td>\n",
       "      <td>Jay</td>\n",
       "      <td>Indiana</td>\n",
       "      <td>19.900000</td>\n",
       "      <td>...</td>\n",
       "      <td>False</td>\n",
       "      <td>False</td>\n",
       "      <td>False</td>\n",
       "      <td>Night</td>\n",
       "      <td>Midwest</td>\n",
       "      <td>2016</td>\n",
       "      <td>2</td>\n",
       "      <td>18</td>\n",
       "      <td>Moderate</td>\n",
       "      <td>4553259.0</td>\n",
       "    </tr>\n",
       "  </tbody>\n",
       "</table>\n",
       "<p>5 rows × 37 columns</p>\n",
       "</div>"
      ],
      "text/plain": [
       "      ID  Severity          Start_Time  Start_Lat  Start_Lng  Distance(mi)  \\\n",
       "19  A-20         4 2016-02-08 21:00:17  41.679361 -83.573037         0.978   \n",
       "26  A-27         4 2016-02-09 07:28:15  39.775720 -84.048150         2.484   \n",
       "39  A-40         4 2016-02-09 15:33:59  40.156298 -83.018431         0.206   \n",
       "42  A-43         4 2016-02-09 18:20:58  40.451120 -85.150480         6.690   \n",
       "43  A-44         4 2016-02-09 18:20:58  40.354290 -85.149930         6.690   \n",
       "\n",
       "            City    County    State  Temperature(F)  ...  Traffic_Calming  \\\n",
       "19        Toledo     Lucas     Ohio       33.400002  ...            False   \n",
       "26      Fairborn    Greene     Ohio       23.000000  ...            False   \n",
       "39  Lewis Center  Delaware     Ohio       26.600000  ...            False   \n",
       "42       Dunkirk       Jay  Indiana       19.900000  ...            False   \n",
       "43        Redkey       Jay  Indiana       19.900000  ...            False   \n",
       "\n",
       "    Traffic_Signal  Turning_Loop Sunrise_Sunset   Region  Year Month  Hour  \\\n",
       "19           False         False          Night  Midwest  2016     2    21   \n",
       "26           False         False          Night  Midwest  2016     2     7   \n",
       "39           False         False            Day  Midwest  2016     2    16   \n",
       "42           False         False          Night  Midwest  2016     2    18   \n",
       "43           False         False          Night  Midwest  2016     2    18   \n",
       "\n",
       "     Weather  Licensed_Drivers  \n",
       "19     Light         7974951.0  \n",
       "26  Moderate         7974951.0  \n",
       "39  Moderate         7974951.0  \n",
       "42  Moderate         4553259.0  \n",
       "43  Moderate         4553259.0  \n",
       "\n",
       "[5 rows x 37 columns]"
      ]
     },
     "execution_count": 34,
     "metadata": {},
     "output_type": "execute_result"
    }
   ],
   "source": [
    "sub_severe.head()"
   ]
  },
  {
   "cell_type": "code",
   "execution_count": 35,
   "id": "2cc19af9",
   "metadata": {},
   "outputs": [
    {
     "name": "stderr",
     "output_type": "stream",
     "text": [
      "C:\\Users\\munav\\AppData\\Local\\Temp\\ipykernel_40012\\1784756268.py:1: SettingWithCopyWarning: \n",
      "A value is trying to be set on a copy of a slice from a DataFrame.\n",
      "Try using .loc[row_indexer,col_indexer] = value instead\n",
      "\n",
      "See the caveats in the documentation: https://pandas.pydata.org/pandas-docs/stable/user_guide/indexing.html#returning-a-view-versus-a-copy\n",
      "  sub_severe['Date']=sub_severe['Start_Time'].dt.date\n"
     ]
    }
   ],
   "source": [
    "sub_severe['Date']=sub_severe['Start_Time'].dt.date"
   ]
  },
  {
   "cell_type": "code",
   "execution_count": 36,
   "id": "e70672ee",
   "metadata": {},
   "outputs": [
    {
     "name": "stderr",
     "output_type": "stream",
     "text": [
      "C:\\Users\\munav\\AppData\\Local\\Temp\\ipykernel_40012\\2312094699.py:2: SettingWithCopyWarning: \n",
      "A value is trying to be set on a copy of a slice from a DataFrame.\n",
      "Try using .loc[row_indexer,col_indexer] = value instead\n",
      "\n",
      "See the caveats in the documentation: https://pandas.pydata.org/pandas-docs/stable/user_guide/indexing.html#returning-a-view-versus-a-copy\n",
      "  sub_severe['Date']=sub_severe['Date'].astype('datetime64')\n"
     ]
    },
    {
     "data": {
      "text/html": [
       "<div>\n",
       "<style scoped>\n",
       "    .dataframe tbody tr th:only-of-type {\n",
       "        vertical-align: middle;\n",
       "    }\n",
       "\n",
       "    .dataframe tbody tr th {\n",
       "        vertical-align: top;\n",
       "    }\n",
       "\n",
       "    .dataframe thead th {\n",
       "        text-align: right;\n",
       "    }\n",
       "</style>\n",
       "<table border=\"1\" class=\"dataframe\">\n",
       "  <thead>\n",
       "    <tr style=\"text-align: right;\">\n",
       "      <th></th>\n",
       "      <th>Date</th>\n",
       "      <th>Hour</th>\n",
       "      <th>State</th>\n",
       "      <th>County</th>\n",
       "      <th>City</th>\n",
       "      <th>Severe_accidents_number</th>\n",
       "    </tr>\n",
       "  </thead>\n",
       "  <tbody>\n",
       "    <tr>\n",
       "      <th>0</th>\n",
       "      <td>2016-01-14</td>\n",
       "      <td>20</td>\n",
       "      <td>Pennsylvania</td>\n",
       "      <td>Lehigh</td>\n",
       "      <td>Whitehall</td>\n",
       "      <td>1</td>\n",
       "    </tr>\n",
       "    <tr>\n",
       "      <th>1</th>\n",
       "      <td>2016-02-08</td>\n",
       "      <td>21</td>\n",
       "      <td>Ohio</td>\n",
       "      <td>Lucas</td>\n",
       "      <td>Toledo</td>\n",
       "      <td>1</td>\n",
       "    </tr>\n",
       "    <tr>\n",
       "      <th>2</th>\n",
       "      <td>2016-02-09</td>\n",
       "      <td>7</td>\n",
       "      <td>Ohio</td>\n",
       "      <td>Greene</td>\n",
       "      <td>Fairborn</td>\n",
       "      <td>1</td>\n",
       "    </tr>\n",
       "    <tr>\n",
       "      <th>3</th>\n",
       "      <td>2016-02-09</td>\n",
       "      <td>16</td>\n",
       "      <td>Ohio</td>\n",
       "      <td>Delaware</td>\n",
       "      <td>Lewis Center</td>\n",
       "      <td>1</td>\n",
       "    </tr>\n",
       "    <tr>\n",
       "      <th>4</th>\n",
       "      <td>2016-02-09</td>\n",
       "      <td>18</td>\n",
       "      <td>Indiana</td>\n",
       "      <td>Jay</td>\n",
       "      <td>Dunkirk</td>\n",
       "      <td>1</td>\n",
       "    </tr>\n",
       "  </tbody>\n",
       "</table>\n",
       "</div>"
      ],
      "text/plain": [
       "        Date  Hour         State    County          City  \\\n",
       "0 2016-01-14    20  Pennsylvania    Lehigh     Whitehall   \n",
       "1 2016-02-08    21          Ohio     Lucas        Toledo   \n",
       "2 2016-02-09     7          Ohio    Greene      Fairborn   \n",
       "3 2016-02-09    16          Ohio  Delaware  Lewis Center   \n",
       "4 2016-02-09    18       Indiana       Jay       Dunkirk   \n",
       "\n",
       "   Severe_accidents_number  \n",
       "0                        1  \n",
       "1                        1  \n",
       "2                        1  \n",
       "3                        1  \n",
       "4                        1  "
      ]
     },
     "execution_count": 36,
     "metadata": {},
     "output_type": "execute_result"
    }
   ],
   "source": [
    "#Grouping data to calculate the number of severe accidents\n",
    "sub_severe['Date']=sub_severe['Date'].astype('datetime64')\n",
    "sub_severe_grouped=sub_severe.groupby(['Date', 'Hour', 'State', 'County'])['City'].value_counts().reset_index(name='Severe_accidents_number')\n",
    "sub_severe_grouped.head()"
   ]
  },
  {
   "cell_type": "code",
   "execution_count": 37,
   "id": "6a4ff81f",
   "metadata": {},
   "outputs": [
    {
     "data": {
      "text/plain": [
       "left_only     1596159\n",
       "both            98569\n",
       "right_only          0\n",
       "Name: _merge, dtype: int64"
      ]
     },
     "execution_count": 37,
     "metadata": {},
     "output_type": "execute_result"
    }
   ],
   "source": [
    "#Merging the datasets\n",
    "sub_hour=sub_hour.drop(columns=('_merge'))\n",
    "sub_hour=sub_hour.merge(sub_severe_grouped, on=['Date', 'Hour', 'State', 'County', 'City'], how='left', indicator=True)\n",
    "sub_hour['_merge'].value_counts(dropna=False)"
   ]
  },
  {
   "cell_type": "code",
   "execution_count": 38,
   "id": "782e5d59",
   "metadata": {},
   "outputs": [
    {
     "data": {
      "text/html": [
       "<div>\n",
       "<style scoped>\n",
       "    .dataframe tbody tr th:only-of-type {\n",
       "        vertical-align: middle;\n",
       "    }\n",
       "\n",
       "    .dataframe tbody tr th {\n",
       "        vertical-align: top;\n",
       "    }\n",
       "\n",
       "    .dataframe thead th {\n",
       "        text-align: right;\n",
       "    }\n",
       "</style>\n",
       "<table border=\"1\" class=\"dataframe\">\n",
       "  <thead>\n",
       "    <tr style=\"text-align: right;\">\n",
       "      <th></th>\n",
       "      <th>Date</th>\n",
       "      <th>Hour</th>\n",
       "      <th>State</th>\n",
       "      <th>County</th>\n",
       "      <th>City</th>\n",
       "      <th>City_accidents_per_hour</th>\n",
       "      <th>Avg_temp_per_hour</th>\n",
       "      <th>Avg_humid_per_hour</th>\n",
       "      <th>Avg_pressure_per_hour</th>\n",
       "      <th>Avg_visibility_per_hour</th>\n",
       "      <th>Avg_windmph_per_hour</th>\n",
       "      <th>Avg_precip_per_hour</th>\n",
       "      <th>Avg_distance_per_hour</th>\n",
       "      <th>Avg_severity_per_hour</th>\n",
       "      <th>Temp_category</th>\n",
       "      <th>Severe_accidents_number</th>\n",
       "      <th>_merge</th>\n",
       "    </tr>\n",
       "  </thead>\n",
       "  <tbody>\n",
       "    <tr>\n",
       "      <th>0</th>\n",
       "      <td>2016-01-14</td>\n",
       "      <td>20</td>\n",
       "      <td>Pennsylvania</td>\n",
       "      <td>Lehigh</td>\n",
       "      <td>Whitehall</td>\n",
       "      <td>1</td>\n",
       "      <td>31.000000</td>\n",
       "      <td>69.0</td>\n",
       "      <td>29.530001</td>\n",
       "      <td>10.0</td>\n",
       "      <td>3.0</td>\n",
       "      <td>0.00</td>\n",
       "      <td>0.061</td>\n",
       "      <td>4.0</td>\n",
       "      <td>Very Cold</td>\n",
       "      <td>1.0</td>\n",
       "      <td>both</td>\n",
       "    </tr>\n",
       "    <tr>\n",
       "      <th>1</th>\n",
       "      <td>2016-02-08</td>\n",
       "      <td>1</td>\n",
       "      <td>Ohio</td>\n",
       "      <td>Franklin</td>\n",
       "      <td>Dublin</td>\n",
       "      <td>1</td>\n",
       "      <td>42.099998</td>\n",
       "      <td>58.0</td>\n",
       "      <td>29.760000</td>\n",
       "      <td>10.0</td>\n",
       "      <td>10.4</td>\n",
       "      <td>0.00</td>\n",
       "      <td>3.230</td>\n",
       "      <td>3.0</td>\n",
       "      <td>Normal</td>\n",
       "      <td>NaN</td>\n",
       "      <td>left_only</td>\n",
       "    </tr>\n",
       "    <tr>\n",
       "      <th>2</th>\n",
       "      <td>2016-02-08</td>\n",
       "      <td>6</td>\n",
       "      <td>Ohio</td>\n",
       "      <td>Hamilton</td>\n",
       "      <td>Cincinnati</td>\n",
       "      <td>1</td>\n",
       "      <td>36.000000</td>\n",
       "      <td>97.0</td>\n",
       "      <td>29.700001</td>\n",
       "      <td>10.0</td>\n",
       "      <td>NaN</td>\n",
       "      <td>0.02</td>\n",
       "      <td>0.055</td>\n",
       "      <td>2.0</td>\n",
       "      <td>Normal</td>\n",
       "      <td>NaN</td>\n",
       "      <td>left_only</td>\n",
       "    </tr>\n",
       "    <tr>\n",
       "      <th>3</th>\n",
       "      <td>2016-02-08</td>\n",
       "      <td>6</td>\n",
       "      <td>Ohio</td>\n",
       "      <td>Montgomery</td>\n",
       "      <td>Dayton</td>\n",
       "      <td>1</td>\n",
       "      <td>36.900002</td>\n",
       "      <td>91.0</td>\n",
       "      <td>29.680000</td>\n",
       "      <td>10.0</td>\n",
       "      <td>NaN</td>\n",
       "      <td>0.02</td>\n",
       "      <td>0.747</td>\n",
       "      <td>2.0</td>\n",
       "      <td>Normal</td>\n",
       "      <td>NaN</td>\n",
       "      <td>left_only</td>\n",
       "    </tr>\n",
       "    <tr>\n",
       "      <th>4</th>\n",
       "      <td>2016-02-08</td>\n",
       "      <td>7</td>\n",
       "      <td>Ohio</td>\n",
       "      <td>Summit</td>\n",
       "      <td>Akron</td>\n",
       "      <td>1</td>\n",
       "      <td>39.000000</td>\n",
       "      <td>55.0</td>\n",
       "      <td>29.650000</td>\n",
       "      <td>10.0</td>\n",
       "      <td>NaN</td>\n",
       "      <td>NaN</td>\n",
       "      <td>0.123</td>\n",
       "      <td>2.0</td>\n",
       "      <td>Normal</td>\n",
       "      <td>NaN</td>\n",
       "      <td>left_only</td>\n",
       "    </tr>\n",
       "  </tbody>\n",
       "</table>\n",
       "</div>"
      ],
      "text/plain": [
       "        Date  Hour         State      County        City  \\\n",
       "0 2016-01-14    20  Pennsylvania      Lehigh   Whitehall   \n",
       "1 2016-02-08     1          Ohio    Franklin      Dublin   \n",
       "2 2016-02-08     6          Ohio    Hamilton  Cincinnati   \n",
       "3 2016-02-08     6          Ohio  Montgomery      Dayton   \n",
       "4 2016-02-08     7          Ohio      Summit       Akron   \n",
       "\n",
       "   City_accidents_per_hour  Avg_temp_per_hour  Avg_humid_per_hour  \\\n",
       "0                        1          31.000000                69.0   \n",
       "1                        1          42.099998                58.0   \n",
       "2                        1          36.000000                97.0   \n",
       "3                        1          36.900002                91.0   \n",
       "4                        1          39.000000                55.0   \n",
       "\n",
       "   Avg_pressure_per_hour  Avg_visibility_per_hour  Avg_windmph_per_hour  \\\n",
       "0              29.530001                     10.0                   3.0   \n",
       "1              29.760000                     10.0                  10.4   \n",
       "2              29.700001                     10.0                   NaN   \n",
       "3              29.680000                     10.0                   NaN   \n",
       "4              29.650000                     10.0                   NaN   \n",
       "\n",
       "   Avg_precip_per_hour  Avg_distance_per_hour  Avg_severity_per_hour  \\\n",
       "0                 0.00                  0.061                    4.0   \n",
       "1                 0.00                  3.230                    3.0   \n",
       "2                 0.02                  0.055                    2.0   \n",
       "3                 0.02                  0.747                    2.0   \n",
       "4                  NaN                  0.123                    2.0   \n",
       "\n",
       "  Temp_category  Severe_accidents_number     _merge  \n",
       "0     Very Cold                      1.0       both  \n",
       "1        Normal                      NaN  left_only  \n",
       "2        Normal                      NaN  left_only  \n",
       "3        Normal                      NaN  left_only  \n",
       "4        Normal                      NaN  left_only  "
      ]
     },
     "execution_count": 38,
     "metadata": {},
     "output_type": "execute_result"
    }
   ],
   "source": [
    "sub_hour.head()"
   ]
  },
  {
   "cell_type": "code",
   "execution_count": 39,
   "id": "2a187b96",
   "metadata": {},
   "outputs": [
    {
     "data": {
      "text/html": [
       "<div>\n",
       "<style scoped>\n",
       "    .dataframe tbody tr th:only-of-type {\n",
       "        vertical-align: middle;\n",
       "    }\n",
       "\n",
       "    .dataframe tbody tr th {\n",
       "        vertical-align: top;\n",
       "    }\n",
       "\n",
       "    .dataframe thead th {\n",
       "        text-align: right;\n",
       "    }\n",
       "</style>\n",
       "<table border=\"1\" class=\"dataframe\">\n",
       "  <thead>\n",
       "    <tr style=\"text-align: right;\">\n",
       "      <th></th>\n",
       "      <th>Date</th>\n",
       "      <th>Hour</th>\n",
       "      <th>State</th>\n",
       "      <th>County</th>\n",
       "      <th>City</th>\n",
       "      <th>City_accidents_per_hour</th>\n",
       "      <th>Avg_temp_per_hour</th>\n",
       "      <th>Avg_humid_per_hour</th>\n",
       "      <th>Avg_pressure_per_hour</th>\n",
       "      <th>Avg_visibility_per_hour</th>\n",
       "      <th>Avg_windmph_per_hour</th>\n",
       "      <th>Avg_precip_per_hour</th>\n",
       "      <th>Avg_distance_per_hour</th>\n",
       "      <th>Avg_severity_per_hour</th>\n",
       "      <th>Temp_category</th>\n",
       "      <th>Severe_accidents_number</th>\n",
       "      <th>_merge</th>\n",
       "    </tr>\n",
       "  </thead>\n",
       "  <tbody>\n",
       "    <tr>\n",
       "      <th>0</th>\n",
       "      <td>2016-01-14</td>\n",
       "      <td>20</td>\n",
       "      <td>Pennsylvania</td>\n",
       "      <td>Lehigh</td>\n",
       "      <td>Whitehall</td>\n",
       "      <td>1</td>\n",
       "      <td>31.000000</td>\n",
       "      <td>69.0</td>\n",
       "      <td>29.530001</td>\n",
       "      <td>10.0</td>\n",
       "      <td>3.0</td>\n",
       "      <td>0.00</td>\n",
       "      <td>0.061</td>\n",
       "      <td>4.0</td>\n",
       "      <td>Very Cold</td>\n",
       "      <td>1.0</td>\n",
       "      <td>both</td>\n",
       "    </tr>\n",
       "    <tr>\n",
       "      <th>1</th>\n",
       "      <td>2016-02-08</td>\n",
       "      <td>1</td>\n",
       "      <td>Ohio</td>\n",
       "      <td>Franklin</td>\n",
       "      <td>Dublin</td>\n",
       "      <td>1</td>\n",
       "      <td>42.099998</td>\n",
       "      <td>58.0</td>\n",
       "      <td>29.760000</td>\n",
       "      <td>10.0</td>\n",
       "      <td>10.4</td>\n",
       "      <td>0.00</td>\n",
       "      <td>3.230</td>\n",
       "      <td>3.0</td>\n",
       "      <td>Normal</td>\n",
       "      <td>0.0</td>\n",
       "      <td>left_only</td>\n",
       "    </tr>\n",
       "    <tr>\n",
       "      <th>2</th>\n",
       "      <td>2016-02-08</td>\n",
       "      <td>6</td>\n",
       "      <td>Ohio</td>\n",
       "      <td>Hamilton</td>\n",
       "      <td>Cincinnati</td>\n",
       "      <td>1</td>\n",
       "      <td>36.000000</td>\n",
       "      <td>97.0</td>\n",
       "      <td>29.700001</td>\n",
       "      <td>10.0</td>\n",
       "      <td>NaN</td>\n",
       "      <td>0.02</td>\n",
       "      <td>0.055</td>\n",
       "      <td>2.0</td>\n",
       "      <td>Normal</td>\n",
       "      <td>0.0</td>\n",
       "      <td>left_only</td>\n",
       "    </tr>\n",
       "    <tr>\n",
       "      <th>3</th>\n",
       "      <td>2016-02-08</td>\n",
       "      <td>6</td>\n",
       "      <td>Ohio</td>\n",
       "      <td>Montgomery</td>\n",
       "      <td>Dayton</td>\n",
       "      <td>1</td>\n",
       "      <td>36.900002</td>\n",
       "      <td>91.0</td>\n",
       "      <td>29.680000</td>\n",
       "      <td>10.0</td>\n",
       "      <td>NaN</td>\n",
       "      <td>0.02</td>\n",
       "      <td>0.747</td>\n",
       "      <td>2.0</td>\n",
       "      <td>Normal</td>\n",
       "      <td>0.0</td>\n",
       "      <td>left_only</td>\n",
       "    </tr>\n",
       "    <tr>\n",
       "      <th>4</th>\n",
       "      <td>2016-02-08</td>\n",
       "      <td>7</td>\n",
       "      <td>Ohio</td>\n",
       "      <td>Summit</td>\n",
       "      <td>Akron</td>\n",
       "      <td>1</td>\n",
       "      <td>39.000000</td>\n",
       "      <td>55.0</td>\n",
       "      <td>29.650000</td>\n",
       "      <td>10.0</td>\n",
       "      <td>NaN</td>\n",
       "      <td>NaN</td>\n",
       "      <td>0.123</td>\n",
       "      <td>2.0</td>\n",
       "      <td>Normal</td>\n",
       "      <td>0.0</td>\n",
       "      <td>left_only</td>\n",
       "    </tr>\n",
       "  </tbody>\n",
       "</table>\n",
       "</div>"
      ],
      "text/plain": [
       "        Date  Hour         State      County        City  \\\n",
       "0 2016-01-14    20  Pennsylvania      Lehigh   Whitehall   \n",
       "1 2016-02-08     1          Ohio    Franklin      Dublin   \n",
       "2 2016-02-08     6          Ohio    Hamilton  Cincinnati   \n",
       "3 2016-02-08     6          Ohio  Montgomery      Dayton   \n",
       "4 2016-02-08     7          Ohio      Summit       Akron   \n",
       "\n",
       "   City_accidents_per_hour  Avg_temp_per_hour  Avg_humid_per_hour  \\\n",
       "0                        1          31.000000                69.0   \n",
       "1                        1          42.099998                58.0   \n",
       "2                        1          36.000000                97.0   \n",
       "3                        1          36.900002                91.0   \n",
       "4                        1          39.000000                55.0   \n",
       "\n",
       "   Avg_pressure_per_hour  Avg_visibility_per_hour  Avg_windmph_per_hour  \\\n",
       "0              29.530001                     10.0                   3.0   \n",
       "1              29.760000                     10.0                  10.4   \n",
       "2              29.700001                     10.0                   NaN   \n",
       "3              29.680000                     10.0                   NaN   \n",
       "4              29.650000                     10.0                   NaN   \n",
       "\n",
       "   Avg_precip_per_hour  Avg_distance_per_hour  Avg_severity_per_hour  \\\n",
       "0                 0.00                  0.061                    4.0   \n",
       "1                 0.00                  3.230                    3.0   \n",
       "2                 0.02                  0.055                    2.0   \n",
       "3                 0.02                  0.747                    2.0   \n",
       "4                  NaN                  0.123                    2.0   \n",
       "\n",
       "  Temp_category  Severe_accidents_number     _merge  \n",
       "0     Very Cold                      1.0       both  \n",
       "1        Normal                      0.0  left_only  \n",
       "2        Normal                      0.0  left_only  \n",
       "3        Normal                      0.0  left_only  \n",
       "4        Normal                      0.0  left_only  "
      ]
     },
     "execution_count": 39,
     "metadata": {},
     "output_type": "execute_result"
    }
   ],
   "source": [
    "#REplacing missing values with 0\n",
    "sub_hour['Severe_accidents_number']=sub_hour['Severe_accidents_number'].fillna(0)\n",
    "sub_hour.head()"
   ]
  },
  {
   "cell_type": "code",
   "execution_count": 40,
   "id": "6227a984",
   "metadata": {},
   "outputs": [
    {
     "data": {
      "text/html": [
       "<div>\n",
       "<style scoped>\n",
       "    .dataframe tbody tr th:only-of-type {\n",
       "        vertical-align: middle;\n",
       "    }\n",
       "\n",
       "    .dataframe tbody tr th {\n",
       "        vertical-align: top;\n",
       "    }\n",
       "\n",
       "    .dataframe thead th {\n",
       "        text-align: right;\n",
       "    }\n",
       "</style>\n",
       "<table border=\"1\" class=\"dataframe\">\n",
       "  <thead>\n",
       "    <tr style=\"text-align: right;\">\n",
       "      <th></th>\n",
       "      <th>Date</th>\n",
       "      <th>Hour</th>\n",
       "      <th>State</th>\n",
       "      <th>County</th>\n",
       "      <th>City</th>\n",
       "      <th>City_accidents_per_hour</th>\n",
       "      <th>Avg_temp_per_hour</th>\n",
       "      <th>Avg_humid_per_hour</th>\n",
       "      <th>Avg_pressure_per_hour</th>\n",
       "      <th>Avg_visibility_per_hour</th>\n",
       "      <th>Avg_windmph_per_hour</th>\n",
       "      <th>Avg_precip_per_hour</th>\n",
       "      <th>Avg_distance_per_hour</th>\n",
       "      <th>Avg_severity_per_hour</th>\n",
       "      <th>Temp_category</th>\n",
       "      <th>Severe_accidents_number</th>\n",
       "      <th>_merge</th>\n",
       "      <th>Severe_accidents_proportion</th>\n",
       "    </tr>\n",
       "  </thead>\n",
       "  <tbody>\n",
       "    <tr>\n",
       "      <th>0</th>\n",
       "      <td>2016-01-14</td>\n",
       "      <td>20</td>\n",
       "      <td>Pennsylvania</td>\n",
       "      <td>Lehigh</td>\n",
       "      <td>Whitehall</td>\n",
       "      <td>1</td>\n",
       "      <td>31.000000</td>\n",
       "      <td>69.0</td>\n",
       "      <td>29.530001</td>\n",
       "      <td>10.0</td>\n",
       "      <td>3.0</td>\n",
       "      <td>0.00</td>\n",
       "      <td>0.061</td>\n",
       "      <td>4.0</td>\n",
       "      <td>Very Cold</td>\n",
       "      <td>1.0</td>\n",
       "      <td>both</td>\n",
       "      <td>1.0</td>\n",
       "    </tr>\n",
       "    <tr>\n",
       "      <th>1</th>\n",
       "      <td>2016-02-08</td>\n",
       "      <td>1</td>\n",
       "      <td>Ohio</td>\n",
       "      <td>Franklin</td>\n",
       "      <td>Dublin</td>\n",
       "      <td>1</td>\n",
       "      <td>42.099998</td>\n",
       "      <td>58.0</td>\n",
       "      <td>29.760000</td>\n",
       "      <td>10.0</td>\n",
       "      <td>10.4</td>\n",
       "      <td>0.00</td>\n",
       "      <td>3.230</td>\n",
       "      <td>3.0</td>\n",
       "      <td>Normal</td>\n",
       "      <td>0.0</td>\n",
       "      <td>left_only</td>\n",
       "      <td>0.0</td>\n",
       "    </tr>\n",
       "    <tr>\n",
       "      <th>2</th>\n",
       "      <td>2016-02-08</td>\n",
       "      <td>6</td>\n",
       "      <td>Ohio</td>\n",
       "      <td>Hamilton</td>\n",
       "      <td>Cincinnati</td>\n",
       "      <td>1</td>\n",
       "      <td>36.000000</td>\n",
       "      <td>97.0</td>\n",
       "      <td>29.700001</td>\n",
       "      <td>10.0</td>\n",
       "      <td>NaN</td>\n",
       "      <td>0.02</td>\n",
       "      <td>0.055</td>\n",
       "      <td>2.0</td>\n",
       "      <td>Normal</td>\n",
       "      <td>0.0</td>\n",
       "      <td>left_only</td>\n",
       "      <td>0.0</td>\n",
       "    </tr>\n",
       "    <tr>\n",
       "      <th>3</th>\n",
       "      <td>2016-02-08</td>\n",
       "      <td>6</td>\n",
       "      <td>Ohio</td>\n",
       "      <td>Montgomery</td>\n",
       "      <td>Dayton</td>\n",
       "      <td>1</td>\n",
       "      <td>36.900002</td>\n",
       "      <td>91.0</td>\n",
       "      <td>29.680000</td>\n",
       "      <td>10.0</td>\n",
       "      <td>NaN</td>\n",
       "      <td>0.02</td>\n",
       "      <td>0.747</td>\n",
       "      <td>2.0</td>\n",
       "      <td>Normal</td>\n",
       "      <td>0.0</td>\n",
       "      <td>left_only</td>\n",
       "      <td>0.0</td>\n",
       "    </tr>\n",
       "    <tr>\n",
       "      <th>4</th>\n",
       "      <td>2016-02-08</td>\n",
       "      <td>7</td>\n",
       "      <td>Ohio</td>\n",
       "      <td>Summit</td>\n",
       "      <td>Akron</td>\n",
       "      <td>1</td>\n",
       "      <td>39.000000</td>\n",
       "      <td>55.0</td>\n",
       "      <td>29.650000</td>\n",
       "      <td>10.0</td>\n",
       "      <td>NaN</td>\n",
       "      <td>NaN</td>\n",
       "      <td>0.123</td>\n",
       "      <td>2.0</td>\n",
       "      <td>Normal</td>\n",
       "      <td>0.0</td>\n",
       "      <td>left_only</td>\n",
       "      <td>0.0</td>\n",
       "    </tr>\n",
       "  </tbody>\n",
       "</table>\n",
       "</div>"
      ],
      "text/plain": [
       "        Date  Hour         State      County        City  \\\n",
       "0 2016-01-14    20  Pennsylvania      Lehigh   Whitehall   \n",
       "1 2016-02-08     1          Ohio    Franklin      Dublin   \n",
       "2 2016-02-08     6          Ohio    Hamilton  Cincinnati   \n",
       "3 2016-02-08     6          Ohio  Montgomery      Dayton   \n",
       "4 2016-02-08     7          Ohio      Summit       Akron   \n",
       "\n",
       "   City_accidents_per_hour  Avg_temp_per_hour  Avg_humid_per_hour  \\\n",
       "0                        1          31.000000                69.0   \n",
       "1                        1          42.099998                58.0   \n",
       "2                        1          36.000000                97.0   \n",
       "3                        1          36.900002                91.0   \n",
       "4                        1          39.000000                55.0   \n",
       "\n",
       "   Avg_pressure_per_hour  Avg_visibility_per_hour  Avg_windmph_per_hour  \\\n",
       "0              29.530001                     10.0                   3.0   \n",
       "1              29.760000                     10.0                  10.4   \n",
       "2              29.700001                     10.0                   NaN   \n",
       "3              29.680000                     10.0                   NaN   \n",
       "4              29.650000                     10.0                   NaN   \n",
       "\n",
       "   Avg_precip_per_hour  Avg_distance_per_hour  Avg_severity_per_hour  \\\n",
       "0                 0.00                  0.061                    4.0   \n",
       "1                 0.00                  3.230                    3.0   \n",
       "2                 0.02                  0.055                    2.0   \n",
       "3                 0.02                  0.747                    2.0   \n",
       "4                  NaN                  0.123                    2.0   \n",
       "\n",
       "  Temp_category  Severe_accidents_number     _merge  \\\n",
       "0     Very Cold                      1.0       both   \n",
       "1        Normal                      0.0  left_only   \n",
       "2        Normal                      0.0  left_only   \n",
       "3        Normal                      0.0  left_only   \n",
       "4        Normal                      0.0  left_only   \n",
       "\n",
       "   Severe_accidents_proportion  \n",
       "0                          1.0  \n",
       "1                          0.0  \n",
       "2                          0.0  \n",
       "3                          0.0  \n",
       "4                          0.0  "
      ]
     },
     "execution_count": 40,
     "metadata": {},
     "output_type": "execute_result"
    }
   ],
   "source": [
    "#Creating a new column for proportion of severe accidents\n",
    "sub_hour['Severe_accidents_proportion']=(sub_hour['Severe_accidents_number']/sub_hour['City_accidents_per_hour']).round(2)\n",
    "sub_hour.head()"
   ]
  },
  {
   "cell_type": "code",
   "execution_count": 41,
   "id": "5a6ba2ca",
   "metadata": {},
   "outputs": [
    {
     "data": {
      "image/png": "[encoded data removed]",
      "text/plain": [
       "<Figure size 432x288 with 1 Axes>"
      ]
     },
     "metadata": {
      "needs_background": "light"
     },
     "output_type": "display_data"
    }
   ],
   "source": [
    "# Create a scatterplot using matplotlib for another look at how the chosen variables plot against each other.\n",
    "\n",
    "sub_hour.plot(x = 'Avg_temp_per_hour', y='Severe_accidents_proportion',style='o') # The style option creates a scatterplot; without it, we only have lines.\n",
    "plt.title('Average temperature vs severe accidents proportion')  \n",
    "plt.xlabel('Avreage temperature (F)')  \n",
    "plt.ylabel('Severe accidents proportion')  \n",
    "plt.show()"
   ]
  },
  {
   "cell_type": "code",
   "execution_count": 42,
   "id": "5ec2c2ab",
   "metadata": {},
   "outputs": [
    {
     "data": {
      "image/png": "[encoded data removed]",
      "text/plain": [
       "<Figure size 432x288 with 1 Axes>"
      ]
     },
     "metadata": {
      "needs_background": "light"
     },
     "output_type": "display_data"
    }
   ],
   "source": [
    "# Create a scatterplot using matplotlib for another look at how the chosen variables plot against each other.\n",
    "\n",
    "sub_hour.plot(x = 'Avg_precip_per_hour', y='Severe_accidents_proportion',style='o') # The style option creates a scatterplot; without it, we only have lines.\n",
    "plt.title('Average precipitation vs severe accidents proportion')  \n",
    "plt.xlabel('Avreage precipitation')  \n",
    "plt.ylabel('Severe accidents proportion')  \n",
    "plt.show()"
   ]
  },
  {
   "cell_type": "code",
   "execution_count": 43,
   "id": "5f67c915",
   "metadata": {},
   "outputs": [
    {
     "data": {
      "image/png": "[encoded data removed]",
      "text/plain": [
       "<Figure size 432x288 with 1 Axes>"
      ]
     },
     "metadata": {
      "needs_background": "light"
     },
     "output_type": "display_data"
    }
   ],
   "source": [
    "# Create a scatterplot using matplotlib for another look at how the chosen variables plot against each other.\n",
    "\n",
    "sub_hour.plot(x = 'Avg_visibility_per_hour', y='Severe_accidents_proportion',style='o') # The style option creates a scatterplot; without it, we only have lines.\n",
    "plt.title('Average visibility vs severe accidents proportion')  \n",
    "plt.xlabel('Avreage visibility')  \n",
    "plt.ylabel('Severe accidents proportion')  \n",
    "plt.show()"
   ]
  },
  {
   "cell_type": "code",
   "execution_count": 44,
   "id": "e77d540d",
   "metadata": {},
   "outputs": [
    {
     "data": {
      "image/png": "[encoded data removed]",
      "text/plain": [
       "<Figure size 432x288 with 1 Axes>"
      ]
     },
     "metadata": {
      "needs_background": "light"
     },
     "output_type": "display_data"
    }
   ],
   "source": [
    "# Create a scatterplot using matplotlib for another look at how the chosen variables plot against each other.\n",
    "\n",
    "sub_hour.plot(x = 'Avg_humid_per_hour', y='Severe_accidents_proportion',style='o') # The style option creates a scatterplot; without it, we only have lines.\n",
    "plt.title('Average humidity vs severe accidents proportion')  \n",
    "plt.xlabel('Avreage humidity')  \n",
    "plt.ylabel('Severe accidents proportion')  \n",
    "plt.show()"
   ]
  },
  {
   "cell_type": "code",
   "execution_count": 45,
   "id": "da5a4f96",
   "metadata": {},
   "outputs": [
    {
     "data": {
      "image/png": "[encoded data removed]",
      "text/plain": [
       "<Figure size 432x288 with 1 Axes>"
      ]
     },
     "metadata": {
      "needs_background": "light"
     },
     "output_type": "display_data"
    }
   ],
   "source": [
    "# Create a scatterplot using matplotlib for another look at how the chosen variables plot against each other.\n",
    "\n",
    "sub_hour.plot(x = 'Avg_windmph_per_hour', y='Severe_accidents_proportion',style='o') # The style option creates a scatterplot; without it, we only have lines.\n",
    "plt.title('Average wind vs severe accidents proportion')  \n",
    "plt.xlabel('Avreage wind mph')  \n",
    "plt.ylabel('Severe accidents proportion')  \n",
    "plt.show()"
   ]
  },
  {
   "cell_type": "code",
   "execution_count": 46,
   "id": "dd5fafd3",
   "metadata": {},
   "outputs": [
    {
     "data": {
      "image/png": "[encoded data removed]",
      "text/plain": [
       "<Figure size 432x288 with 1 Axes>"
      ]
     },
     "metadata": {
      "needs_background": "light"
     },
     "output_type": "display_data"
    }
   ],
   "source": [
    "# Create a scatterplot using matplotlib for another look at how the chosen variables plot against each other.\n",
    "\n",
    "sub_hour.plot(x = 'Avg_pressure_per_hour', y='Severe_accidents_proportion',style='o') # The style option creates a scatterplot; without it, we only have lines.\n",
    "plt.title('Average pressure vs severe accidents proportion')  \n",
    "plt.xlabel('Avreage pressure')  \n",
    "plt.ylabel('Severe accidents proportion')  \n",
    "plt.show()"
   ]
  },
  {
   "cell_type": "markdown",
   "id": "4663672b",
   "metadata": {},
   "source": [
    "#### We can see that there isn't anly linear relationships between these variables either, so there won't be any point in running linear regression to predict severe accidents proportion."
   ]
  },
  {
   "cell_type": "code",
   "execution_count": null,
   "id": "aec344d2",
   "metadata": {},
   "outputs": [],
   "source": []
  },
  {
   "cell_type": "markdown",
   "id": "1ede5d24",
   "metadata": {},
   "source": [
    "# 05. Multiple regression analysis"
   ]
  },
  {
   "cell_type": "markdown",
   "id": "51f438f1",
   "metadata": {},
   "source": [
    "## a. Predicting City accidents per hour"
   ]
  },
  {
   "cell_type": "code",
   "execution_count": 47,
   "id": "fbb59cdc",
   "metadata": {},
   "outputs": [
    {
     "data": {
      "text/plain": [
       "(1406405, 18)"
      ]
     },
     "execution_count": 47,
     "metadata": {},
     "output_type": "execute_result"
    }
   ],
   "source": [
    "#Deleting missing values\n",
    "sub_hour=sub_hour.dropna(subset=['Avg_temp_per_hour', 'Avg_precip_per_hour', 'Avg_windmph_per_hour','Avg_pressure_per_hour' ])\n",
    "sub_hour.shape"
   ]
  },
  {
   "cell_type": "code",
   "execution_count": 48,
   "id": "f2c92592",
   "metadata": {},
   "outputs": [],
   "source": [
    "# Reshape the variables into NumPy arrays and put them into separate objects.\n",
    "\n",
    "X = sub_hour[['Avg_temp_per_hour', 'Avg_precip_per_hour']].values\n",
    "y = sub_hour['City_accidents_per_hour'].values.reshape(-1,1)"
   ]
  },
  {
   "cell_type": "code",
   "execution_count": 49,
   "id": "71f97898",
   "metadata": {},
   "outputs": [],
   "source": [
    "# Split data into a training set and a test set.\n",
    "\n",
    "X_train, X_test, y_train, y_test = train_test_split(X, y, test_size=0.3, random_state=0)"
   ]
  },
  {
   "cell_type": "code",
   "execution_count": 50,
   "id": "92052ff4",
   "metadata": {},
   "outputs": [
    {
     "data": {
      "text/plain": [
       "LinearRegression()"
      ]
     },
     "execution_count": 50,
     "metadata": {},
     "output_type": "execute_result"
    }
   ],
   "source": [
    "# Fit the regression object onto the training set.\n",
    "\n",
    "regression.fit(X_train, y_train)"
   ]
  },
  {
   "cell_type": "code",
   "execution_count": 51,
   "id": "762c2aa5",
   "metadata": {},
   "outputs": [],
   "source": [
    "# Predict the values of y using X.\n",
    "\n",
    "y_predicted = regression.predict(X_test)"
   ]
  },
  {
   "cell_type": "code",
   "execution_count": 52,
   "id": "16059c0a",
   "metadata": {},
   "outputs": [],
   "source": [
    "# Create objects that contain the model summary statistics.\n",
    "\n",
    "rmse = mean_squared_error(y_test, y_predicted) # This is the mean squared error\n",
    "r2 = r2_score(y_test, y_predicted) # This is the R2 score. "
   ]
  },
  {
   "cell_type": "code",
   "execution_count": 53,
   "id": "bed0c2d7",
   "metadata": {},
   "outputs": [
    {
     "name": "stdout",
     "output_type": "stream",
     "text": [
      "Slope: [[0.00403693 0.11548985]]\n",
      "Mean squared error:  1.2447505644774026\n",
      "R2 score:  0.004479328095714719\n"
     ]
    }
   ],
   "source": [
    "# Print the model summary statistics. This is where you evaluate the performance of the model.\n",
    "\n",
    "print('Slope:' ,regression.coef_)\n",
    "print('Mean squared error: ', rmse)\n",
    "print('R2 score: ', r2)"
   ]
  },
  {
   "cell_type": "code",
   "execution_count": 54,
   "id": "246dc055",
   "metadata": {},
   "outputs": [
    {
     "data": {
      "text/plain": [
       "array([[1.4213045],\n",
       "       [1.3879998],\n",
       "       [1.311298 ],\n",
       "       ...,\n",
       "       [1.2870765],\n",
       "       [1.4808491],\n",
       "       [1.2249078]], dtype=float32)"
      ]
     },
     "execution_count": 54,
     "metadata": {},
     "output_type": "execute_result"
    }
   ],
   "source": [
    "y_predicted"
   ]
  },
  {
   "cell_type": "code",
   "execution_count": 55,
   "id": "ee459096",
   "metadata": {},
   "outputs": [
    {
     "data": {
      "text/html": [
       "<div>\n",
       "<style scoped>\n",
       "    .dataframe tbody tr th:only-of-type {\n",
       "        vertical-align: middle;\n",
       "    }\n",
       "\n",
       "    .dataframe tbody tr th {\n",
       "        vertical-align: top;\n",
       "    }\n",
       "\n",
       "    .dataframe thead th {\n",
       "        text-align: right;\n",
       "    }\n",
       "</style>\n",
       "<table border=\"1\" class=\"dataframe\">\n",
       "  <thead>\n",
       "    <tr style=\"text-align: right;\">\n",
       "      <th></th>\n",
       "      <th>Actual</th>\n",
       "      <th>Predicted</th>\n",
       "    </tr>\n",
       "  </thead>\n",
       "  <tbody>\n",
       "    <tr>\n",
       "      <th>0</th>\n",
       "      <td>4</td>\n",
       "      <td>1.421304</td>\n",
       "    </tr>\n",
       "    <tr>\n",
       "      <th>1</th>\n",
       "      <td>1</td>\n",
       "      <td>1.388000</td>\n",
       "    </tr>\n",
       "    <tr>\n",
       "      <th>2</th>\n",
       "      <td>1</td>\n",
       "      <td>1.311298</td>\n",
       "    </tr>\n",
       "    <tr>\n",
       "      <th>3</th>\n",
       "      <td>1</td>\n",
       "      <td>1.456628</td>\n",
       "    </tr>\n",
       "    <tr>\n",
       "      <th>4</th>\n",
       "      <td>1</td>\n",
       "      <td>1.323812</td>\n",
       "    </tr>\n",
       "    <tr>\n",
       "      <th>5</th>\n",
       "      <td>1</td>\n",
       "      <td>1.456628</td>\n",
       "    </tr>\n",
       "    <tr>\n",
       "      <th>6</th>\n",
       "      <td>1</td>\n",
       "      <td>1.460665</td>\n",
       "    </tr>\n",
       "    <tr>\n",
       "      <th>7</th>\n",
       "      <td>2</td>\n",
       "      <td>1.412221</td>\n",
       "    </tr>\n",
       "    <tr>\n",
       "      <th>8</th>\n",
       "      <td>1</td>\n",
       "      <td>1.315335</td>\n",
       "    </tr>\n",
       "    <tr>\n",
       "      <th>9</th>\n",
       "      <td>2</td>\n",
       "      <td>1.449517</td>\n",
       "    </tr>\n",
       "    <tr>\n",
       "      <th>10</th>\n",
       "      <td>1</td>\n",
       "      <td>1.464701</td>\n",
       "    </tr>\n",
       "    <tr>\n",
       "      <th>11</th>\n",
       "      <td>1</td>\n",
       "      <td>1.307261</td>\n",
       "    </tr>\n",
       "    <tr>\n",
       "      <th>12</th>\n",
       "      <td>1</td>\n",
       "      <td>1.436443</td>\n",
       "    </tr>\n",
       "    <tr>\n",
       "      <th>13</th>\n",
       "      <td>1</td>\n",
       "      <td>1.297572</td>\n",
       "    </tr>\n",
       "    <tr>\n",
       "      <th>14</th>\n",
       "      <td>1</td>\n",
       "      <td>1.295150</td>\n",
       "    </tr>\n",
       "    <tr>\n",
       "      <th>15</th>\n",
       "      <td>1</td>\n",
       "      <td>1.456628</td>\n",
       "    </tr>\n",
       "    <tr>\n",
       "      <th>16</th>\n",
       "      <td>2</td>\n",
       "      <td>1.452591</td>\n",
       "    </tr>\n",
       "    <tr>\n",
       "      <th>17</th>\n",
       "      <td>1</td>\n",
       "      <td>1.311298</td>\n",
       "    </tr>\n",
       "    <tr>\n",
       "      <th>18</th>\n",
       "      <td>1</td>\n",
       "      <td>1.435871</td>\n",
       "    </tr>\n",
       "    <tr>\n",
       "      <th>19</th>\n",
       "      <td>1</td>\n",
       "      <td>1.420295</td>\n",
       "    </tr>\n",
       "    <tr>\n",
       "      <th>20</th>\n",
       "      <td>1</td>\n",
       "      <td>1.319372</td>\n",
       "    </tr>\n",
       "    <tr>\n",
       "      <th>21</th>\n",
       "      <td>1</td>\n",
       "      <td>1.307261</td>\n",
       "    </tr>\n",
       "    <tr>\n",
       "      <th>22</th>\n",
       "      <td>1</td>\n",
       "      <td>1.452591</td>\n",
       "    </tr>\n",
       "    <tr>\n",
       "      <th>23</th>\n",
       "      <td>2</td>\n",
       "      <td>1.488923</td>\n",
       "    </tr>\n",
       "    <tr>\n",
       "      <th>24</th>\n",
       "      <td>1</td>\n",
       "      <td>1.400110</td>\n",
       "    </tr>\n",
       "    <tr>\n",
       "      <th>25</th>\n",
       "      <td>1</td>\n",
       "      <td>1.404148</td>\n",
       "    </tr>\n",
       "    <tr>\n",
       "      <th>26</th>\n",
       "      <td>2</td>\n",
       "      <td>1.468738</td>\n",
       "    </tr>\n",
       "    <tr>\n",
       "      <th>27</th>\n",
       "      <td>1</td>\n",
       "      <td>1.460665</td>\n",
       "    </tr>\n",
       "    <tr>\n",
       "      <th>28</th>\n",
       "      <td>1</td>\n",
       "      <td>1.460665</td>\n",
       "    </tr>\n",
       "    <tr>\n",
       "      <th>29</th>\n",
       "      <td>1</td>\n",
       "      <td>1.311298</td>\n",
       "    </tr>\n",
       "  </tbody>\n",
       "</table>\n",
       "</div>"
      ],
      "text/plain": [
       "    Actual  Predicted\n",
       "0        4   1.421304\n",
       "1        1   1.388000\n",
       "2        1   1.311298\n",
       "3        1   1.456628\n",
       "4        1   1.323812\n",
       "5        1   1.456628\n",
       "6        1   1.460665\n",
       "7        2   1.412221\n",
       "8        1   1.315335\n",
       "9        2   1.449517\n",
       "10       1   1.464701\n",
       "11       1   1.307261\n",
       "12       1   1.436443\n",
       "13       1   1.297572\n",
       "14       1   1.295150\n",
       "15       1   1.456628\n",
       "16       2   1.452591\n",
       "17       1   1.311298\n",
       "18       1   1.435871\n",
       "19       1   1.420295\n",
       "20       1   1.319372\n",
       "21       1   1.307261\n",
       "22       1   1.452591\n",
       "23       2   1.488923\n",
       "24       1   1.400110\n",
       "25       1   1.404148\n",
       "26       2   1.468738\n",
       "27       1   1.460665\n",
       "28       1   1.460665\n",
       "29       1   1.311298"
      ]
     },
     "execution_count": 55,
     "metadata": {},
     "output_type": "execute_result"
    }
   ],
   "source": [
    "# Create a dataframe comparing the actual and predicted values of y.\n",
    "\n",
    "data = pd.DataFrame({'Actual': y_test.flatten(), 'Predicted': y_predicted.flatten()})\n",
    "data.head(30)"
   ]
  },
  {
   "cell_type": "markdown",
   "id": "53962bc1",
   "metadata": {},
   "source": [
    "#### We can see that the multiple regression does a little better job at predicting the variables (R2 is higher but RMSE is also higher) , but the model is still a poor fit."
   ]
  },
  {
   "cell_type": "markdown",
   "id": "1f68b244",
   "metadata": {},
   "source": [
    "## b. Predicting severe accidents proportion"
   ]
  },
  {
   "cell_type": "code",
   "execution_count": 56,
   "id": "c15f5d8f",
   "metadata": {},
   "outputs": [],
   "source": [
    "# Reshape the variables into NumPy arrays and put them into separate objects.\n",
    "\n",
    "X = sub_hour[['Avg_temp_per_hour', 'Avg_precip_per_hour']].values\n",
    "y = sub_hour['Severe_accidents_proportion'].values.reshape(-1,1)"
   ]
  },
  {
   "cell_type": "code",
   "execution_count": 57,
   "id": "57137f50",
   "metadata": {},
   "outputs": [],
   "source": [
    "# Split data into a training set and a test set.\n",
    "\n",
    "X_train, X_test, y_train, y_test = train_test_split(X, y, test_size=0.3, random_state=0)"
   ]
  },
  {
   "cell_type": "code",
   "execution_count": 58,
   "id": "1ac375ef",
   "metadata": {},
   "outputs": [
    {
     "data": {
      "text/plain": [
       "LinearRegression()"
      ]
     },
     "execution_count": 58,
     "metadata": {},
     "output_type": "execute_result"
    }
   ],
   "source": [
    "# Fit the regression object onto the training set.\n",
    "\n",
    "regression.fit(X_train, y_train)"
   ]
  },
  {
   "cell_type": "code",
   "execution_count": 59,
   "id": "626467c2",
   "metadata": {},
   "outputs": [],
   "source": [
    "# Predict the values of y using X.\n",
    "\n",
    "y_predicted = regression.predict(X_test)"
   ]
  },
  {
   "cell_type": "code",
   "execution_count": 60,
   "id": "7b80512d",
   "metadata": {},
   "outputs": [],
   "source": [
    "# Create objects that contain the model summary statistics.\n",
    "\n",
    "rmse = mean_squared_error(y_test, y_predicted) # This is the mean squared error\n",
    "r2 = r2_score(y_test, y_predicted) # This is the R2 score. "
   ]
  },
  {
   "cell_type": "code",
   "execution_count": 61,
   "id": "fdf60b04",
   "metadata": {},
   "outputs": [
    {
     "name": "stdout",
     "output_type": "stream",
     "text": [
      "Slope: [[-0.00018111  0.00532519]]\n",
      "Mean squared error:  0.03485782001875242\n",
      "R2 score:  0.0004283092563561741\n"
     ]
    }
   ],
   "source": [
    "# Print the model summary statistics. This is where you evaluate the performance of the model.\n",
    "\n",
    "print('Slope:' ,regression.coef_)\n",
    "print('Mean squared error: ', rmse)\n",
    "print('R2 score: ', r2)"
   ]
  },
  {
   "cell_type": "code",
   "execution_count": 62,
   "id": "65274e44",
   "metadata": {},
   "outputs": [
    {
     "data": {
      "text/plain": [
       "array([[0.0373395 ],\n",
       "       [0.03883365],\n",
       "       [0.04227474],\n",
       "       ...,\n",
       "       [0.0433614 ],\n",
       "       [0.03466813],\n",
       "       [0.04615048]], dtype=float32)"
      ]
     },
     "execution_count": 62,
     "metadata": {},
     "output_type": "execute_result"
    }
   ],
   "source": [
    "y_predicted"
   ]
  },
  {
   "cell_type": "code",
   "execution_count": 63,
   "id": "69b39fd1",
   "metadata": {},
   "outputs": [
    {
     "data": {
      "text/html": [
       "<div>\n",
       "<style scoped>\n",
       "    .dataframe tbody tr th:only-of-type {\n",
       "        vertical-align: middle;\n",
       "    }\n",
       "\n",
       "    .dataframe tbody tr th {\n",
       "        vertical-align: top;\n",
       "    }\n",
       "\n",
       "    .dataframe thead th {\n",
       "        text-align: right;\n",
       "    }\n",
       "</style>\n",
       "<table border=\"1\" class=\"dataframe\">\n",
       "  <thead>\n",
       "    <tr style=\"text-align: right;\">\n",
       "      <th></th>\n",
       "      <th>Actual</th>\n",
       "      <th>Predicted</th>\n",
       "    </tr>\n",
       "  </thead>\n",
       "  <tbody>\n",
       "    <tr>\n",
       "      <th>0</th>\n",
       "      <td>0.0</td>\n",
       "      <td>0.037339</td>\n",
       "    </tr>\n",
       "    <tr>\n",
       "      <th>1</th>\n",
       "      <td>0.0</td>\n",
       "      <td>0.038834</td>\n",
       "    </tr>\n",
       "    <tr>\n",
       "      <th>2</th>\n",
       "      <td>0.0</td>\n",
       "      <td>0.042275</td>\n",
       "    </tr>\n",
       "    <tr>\n",
       "      <th>3</th>\n",
       "      <td>0.0</td>\n",
       "      <td>0.035755</td>\n",
       "    </tr>\n",
       "    <tr>\n",
       "      <th>4</th>\n",
       "      <td>0.0</td>\n",
       "      <td>0.041713</td>\n",
       "    </tr>\n",
       "    <tr>\n",
       "      <th>5</th>\n",
       "      <td>0.0</td>\n",
       "      <td>0.035755</td>\n",
       "    </tr>\n",
       "    <tr>\n",
       "      <th>6</th>\n",
       "      <td>0.0</td>\n",
       "      <td>0.035574</td>\n",
       "    </tr>\n",
       "    <tr>\n",
       "      <th>7</th>\n",
       "      <td>0.0</td>\n",
       "      <td>0.037747</td>\n",
       "    </tr>\n",
       "    <tr>\n",
       "      <th>8</th>\n",
       "      <td>0.0</td>\n",
       "      <td>0.042094</td>\n",
       "    </tr>\n",
       "    <tr>\n",
       "      <th>9</th>\n",
       "      <td>1.0</td>\n",
       "      <td>0.036914</td>\n",
       "    </tr>\n",
       "    <tr>\n",
       "      <th>10</th>\n",
       "      <td>0.0</td>\n",
       "      <td>0.035393</td>\n",
       "    </tr>\n",
       "    <tr>\n",
       "      <th>11</th>\n",
       "      <td>0.0</td>\n",
       "      <td>0.042456</td>\n",
       "    </tr>\n",
       "    <tr>\n",
       "      <th>12</th>\n",
       "      <td>0.0</td>\n",
       "      <td>0.036660</td>\n",
       "    </tr>\n",
       "    <tr>\n",
       "      <th>13</th>\n",
       "      <td>0.0</td>\n",
       "      <td>0.042891</td>\n",
       "    </tr>\n",
       "    <tr>\n",
       "      <th>14</th>\n",
       "      <td>0.0</td>\n",
       "      <td>0.042999</td>\n",
       "    </tr>\n",
       "    <tr>\n",
       "      <th>15</th>\n",
       "      <td>0.0</td>\n",
       "      <td>0.035755</td>\n",
       "    </tr>\n",
       "    <tr>\n",
       "      <th>16</th>\n",
       "      <td>0.0</td>\n",
       "      <td>0.035936</td>\n",
       "    </tr>\n",
       "    <tr>\n",
       "      <th>17</th>\n",
       "      <td>0.0</td>\n",
       "      <td>0.042275</td>\n",
       "    </tr>\n",
       "    <tr>\n",
       "      <th>18</th>\n",
       "      <td>0.0</td>\n",
       "      <td>0.037001</td>\n",
       "    </tr>\n",
       "    <tr>\n",
       "      <th>19</th>\n",
       "      <td>0.0</td>\n",
       "      <td>0.037385</td>\n",
       "    </tr>\n",
       "    <tr>\n",
       "      <th>20</th>\n",
       "      <td>0.0</td>\n",
       "      <td>0.041913</td>\n",
       "    </tr>\n",
       "    <tr>\n",
       "      <th>21</th>\n",
       "      <td>0.0</td>\n",
       "      <td>0.042456</td>\n",
       "    </tr>\n",
       "    <tr>\n",
       "      <th>22</th>\n",
       "      <td>0.0</td>\n",
       "      <td>0.035936</td>\n",
       "    </tr>\n",
       "    <tr>\n",
       "      <th>23</th>\n",
       "      <td>0.0</td>\n",
       "      <td>0.034306</td>\n",
       "    </tr>\n",
       "    <tr>\n",
       "      <th>24</th>\n",
       "      <td>0.0</td>\n",
       "      <td>0.038290</td>\n",
       "    </tr>\n",
       "    <tr>\n",
       "      <th>25</th>\n",
       "      <td>0.0</td>\n",
       "      <td>0.038109</td>\n",
       "    </tr>\n",
       "    <tr>\n",
       "      <th>26</th>\n",
       "      <td>0.0</td>\n",
       "      <td>0.035211</td>\n",
       "    </tr>\n",
       "    <tr>\n",
       "      <th>27</th>\n",
       "      <td>0.0</td>\n",
       "      <td>0.035574</td>\n",
       "    </tr>\n",
       "    <tr>\n",
       "      <th>28</th>\n",
       "      <td>0.0</td>\n",
       "      <td>0.035574</td>\n",
       "    </tr>\n",
       "    <tr>\n",
       "      <th>29</th>\n",
       "      <td>0.0</td>\n",
       "      <td>0.042275</td>\n",
       "    </tr>\n",
       "  </tbody>\n",
       "</table>\n",
       "</div>"
      ],
      "text/plain": [
       "    Actual  Predicted\n",
       "0      0.0   0.037339\n",
       "1      0.0   0.038834\n",
       "2      0.0   0.042275\n",
       "3      0.0   0.035755\n",
       "4      0.0   0.041713\n",
       "5      0.0   0.035755\n",
       "6      0.0   0.035574\n",
       "7      0.0   0.037747\n",
       "8      0.0   0.042094\n",
       "9      1.0   0.036914\n",
       "10     0.0   0.035393\n",
       "11     0.0   0.042456\n",
       "12     0.0   0.036660\n",
       "13     0.0   0.042891\n",
       "14     0.0   0.042999\n",
       "15     0.0   0.035755\n",
       "16     0.0   0.035936\n",
       "17     0.0   0.042275\n",
       "18     0.0   0.037001\n",
       "19     0.0   0.037385\n",
       "20     0.0   0.041913\n",
       "21     0.0   0.042456\n",
       "22     0.0   0.035936\n",
       "23     0.0   0.034306\n",
       "24     0.0   0.038290\n",
       "25     0.0   0.038109\n",
       "26     0.0   0.035211\n",
       "27     0.0   0.035574\n",
       "28     0.0   0.035574\n",
       "29     0.0   0.042275"
      ]
     },
     "execution_count": 63,
     "metadata": {},
     "output_type": "execute_result"
    }
   ],
   "source": [
    "# Create a dataframe comparing the actual and predicted values of y.\n",
    "\n",
    "data = pd.DataFrame({'Actual': y_test.flatten(), 'Predicted': y_predicted.flatten()})\n",
    "data.head(30)"
   ]
  },
  {
   "cell_type": "markdown",
   "id": "43fec365",
   "metadata": {},
   "source": [
    "#### We can see that this model is also a poor fit for predicting the proportion of severe accidents with an extremely low R2 and relatively high RMSE."
   ]
  },
  {
   "cell_type": "markdown",
   "id": "b827af03",
   "metadata": {},
   "source": [
    "# 06. Multivariate polynomial regression analysis"
   ]
  },
  {
   "cell_type": "markdown",
   "id": "423e2031",
   "metadata": {},
   "source": [
    "#### It was observed that the temperature has a nonlinear impact on accidents, so we will try to make a multivariate polynomial regression model to capture this relationship"
   ]
  },
  {
   "cell_type": "markdown",
   "id": "339ec805",
   "metadata": {},
   "source": [
    "## a. Predicting city accidents number"
   ]
  },
  {
   "cell_type": "code",
   "execution_count": 64,
   "id": "4d416eb0",
   "metadata": {},
   "outputs": [
    {
     "name": "stderr",
     "output_type": "stream",
     "text": [
      "C:\\Users\\munav\\AppData\\Local\\Temp\\ipykernel_40012\\1579652543.py:2: SettingWithCopyWarning: \n",
      "A value is trying to be set on a copy of a slice from a DataFrame.\n",
      "Try using .loc[row_indexer,col_indexer] = value instead\n",
      "\n",
      "See the caveats in the documentation: https://pandas.pydata.org/pandas-docs/stable/user_guide/indexing.html#returning-a-view-versus-a-copy\n",
      "  sub_hour['Avg_temp_squared']=sub_hour['Avg_temp_per_hour']**2\n"
     ]
    },
    {
     "data": {
      "text/html": [
       "<div>\n",
       "<style scoped>\n",
       "    .dataframe tbody tr th:only-of-type {\n",
       "        vertical-align: middle;\n",
       "    }\n",
       "\n",
       "    .dataframe tbody tr th {\n",
       "        vertical-align: top;\n",
       "    }\n",
       "\n",
       "    .dataframe thead th {\n",
       "        text-align: right;\n",
       "    }\n",
       "</style>\n",
       "<table border=\"1\" class=\"dataframe\">\n",
       "  <thead>\n",
       "    <tr style=\"text-align: right;\">\n",
       "      <th></th>\n",
       "      <th>Date</th>\n",
       "      <th>Hour</th>\n",
       "      <th>State</th>\n",
       "      <th>County</th>\n",
       "      <th>City</th>\n",
       "      <th>City_accidents_per_hour</th>\n",
       "      <th>Avg_temp_per_hour</th>\n",
       "      <th>Avg_humid_per_hour</th>\n",
       "      <th>Avg_pressure_per_hour</th>\n",
       "      <th>Avg_visibility_per_hour</th>\n",
       "      <th>Avg_windmph_per_hour</th>\n",
       "      <th>Avg_precip_per_hour</th>\n",
       "      <th>Avg_distance_per_hour</th>\n",
       "      <th>Avg_severity_per_hour</th>\n",
       "      <th>Temp_category</th>\n",
       "      <th>Severe_accidents_number</th>\n",
       "      <th>_merge</th>\n",
       "      <th>Severe_accidents_proportion</th>\n",
       "      <th>Avg_temp_squared</th>\n",
       "    </tr>\n",
       "  </thead>\n",
       "  <tbody>\n",
       "    <tr>\n",
       "      <th>0</th>\n",
       "      <td>2016-01-14</td>\n",
       "      <td>20</td>\n",
       "      <td>Pennsylvania</td>\n",
       "      <td>Lehigh</td>\n",
       "      <td>Whitehall</td>\n",
       "      <td>1</td>\n",
       "      <td>31.000000</td>\n",
       "      <td>69.0</td>\n",
       "      <td>29.530001</td>\n",
       "      <td>10.0</td>\n",
       "      <td>3.0</td>\n",
       "      <td>0.00</td>\n",
       "      <td>0.061</td>\n",
       "      <td>4.0</td>\n",
       "      <td>Very Cold</td>\n",
       "      <td>1.0</td>\n",
       "      <td>both</td>\n",
       "      <td>1.0</td>\n",
       "      <td>961.000000</td>\n",
       "    </tr>\n",
       "    <tr>\n",
       "      <th>1</th>\n",
       "      <td>2016-02-08</td>\n",
       "      <td>1</td>\n",
       "      <td>Ohio</td>\n",
       "      <td>Franklin</td>\n",
       "      <td>Dublin</td>\n",
       "      <td>1</td>\n",
       "      <td>42.099998</td>\n",
       "      <td>58.0</td>\n",
       "      <td>29.760000</td>\n",
       "      <td>10.0</td>\n",
       "      <td>10.4</td>\n",
       "      <td>0.00</td>\n",
       "      <td>3.230</td>\n",
       "      <td>3.0</td>\n",
       "      <td>Normal</td>\n",
       "      <td>0.0</td>\n",
       "      <td>left_only</td>\n",
       "      <td>0.0</td>\n",
       "      <td>1772.409912</td>\n",
       "    </tr>\n",
       "    <tr>\n",
       "      <th>6</th>\n",
       "      <td>2016-02-08</td>\n",
       "      <td>8</td>\n",
       "      <td>Ohio</td>\n",
       "      <td>Hamilton</td>\n",
       "      <td>Cincinnati</td>\n",
       "      <td>1</td>\n",
       "      <td>37.000000</td>\n",
       "      <td>93.0</td>\n",
       "      <td>29.690001</td>\n",
       "      <td>10.0</td>\n",
       "      <td>10.4</td>\n",
       "      <td>0.01</td>\n",
       "      <td>0.500</td>\n",
       "      <td>3.0</td>\n",
       "      <td>Normal</td>\n",
       "      <td>0.0</td>\n",
       "      <td>left_only</td>\n",
       "      <td>0.0</td>\n",
       "      <td>1369.000000</td>\n",
       "    </tr>\n",
       "    <tr>\n",
       "      <th>8</th>\n",
       "      <td>2016-02-08</td>\n",
       "      <td>12</td>\n",
       "      <td>Ohio</td>\n",
       "      <td>Cuyahoga</td>\n",
       "      <td>Cleveland</td>\n",
       "      <td>1</td>\n",
       "      <td>33.099998</td>\n",
       "      <td>92.0</td>\n",
       "      <td>29.629999</td>\n",
       "      <td>0.5</td>\n",
       "      <td>3.5</td>\n",
       "      <td>0.08</td>\n",
       "      <td>0.521</td>\n",
       "      <td>2.0</td>\n",
       "      <td>Normal</td>\n",
       "      <td>0.0</td>\n",
       "      <td>left_only</td>\n",
       "      <td>0.0</td>\n",
       "      <td>1095.609863</td>\n",
       "    </tr>\n",
       "    <tr>\n",
       "      <th>10</th>\n",
       "      <td>2016-02-08</td>\n",
       "      <td>15</td>\n",
       "      <td>Ohio</td>\n",
       "      <td>Franklin</td>\n",
       "      <td>Westerville</td>\n",
       "      <td>1</td>\n",
       "      <td>32.000000</td>\n",
       "      <td>100.0</td>\n",
       "      <td>29.590000</td>\n",
       "      <td>0.5</td>\n",
       "      <td>3.5</td>\n",
       "      <td>0.05</td>\n",
       "      <td>0.826</td>\n",
       "      <td>2.0</td>\n",
       "      <td>Very Cold</td>\n",
       "      <td>0.0</td>\n",
       "      <td>left_only</td>\n",
       "      <td>0.0</td>\n",
       "      <td>1024.000000</td>\n",
       "    </tr>\n",
       "  </tbody>\n",
       "</table>\n",
       "</div>"
      ],
      "text/plain": [
       "         Date  Hour         State    County         City  \\\n",
       "0  2016-01-14    20  Pennsylvania    Lehigh    Whitehall   \n",
       "1  2016-02-08     1          Ohio  Franklin       Dublin   \n",
       "6  2016-02-08     8          Ohio  Hamilton   Cincinnati   \n",
       "8  2016-02-08    12          Ohio  Cuyahoga    Cleveland   \n",
       "10 2016-02-08    15          Ohio  Franklin  Westerville   \n",
       "\n",
       "    City_accidents_per_hour  Avg_temp_per_hour  Avg_humid_per_hour  \\\n",
       "0                         1          31.000000                69.0   \n",
       "1                         1          42.099998                58.0   \n",
       "6                         1          37.000000                93.0   \n",
       "8                         1          33.099998                92.0   \n",
       "10                        1          32.000000               100.0   \n",
       "\n",
       "    Avg_pressure_per_hour  Avg_visibility_per_hour  Avg_windmph_per_hour  \\\n",
       "0               29.530001                     10.0                   3.0   \n",
       "1               29.760000                     10.0                  10.4   \n",
       "6               29.690001                     10.0                  10.4   \n",
       "8               29.629999                      0.5                   3.5   \n",
       "10              29.590000                      0.5                   3.5   \n",
       "\n",
       "    Avg_precip_per_hour  Avg_distance_per_hour  Avg_severity_per_hour  \\\n",
       "0                  0.00                  0.061                    4.0   \n",
       "1                  0.00                  3.230                    3.0   \n",
       "6                  0.01                  0.500                    3.0   \n",
       "8                  0.08                  0.521                    2.0   \n",
       "10                 0.05                  0.826                    2.0   \n",
       "\n",
       "   Temp_category  Severe_accidents_number     _merge  \\\n",
       "0      Very Cold                      1.0       both   \n",
       "1         Normal                      0.0  left_only   \n",
       "6         Normal                      0.0  left_only   \n",
       "8         Normal                      0.0  left_only   \n",
       "10     Very Cold                      0.0  left_only   \n",
       "\n",
       "    Severe_accidents_proportion  Avg_temp_squared  \n",
       "0                           1.0        961.000000  \n",
       "1                           0.0       1772.409912  \n",
       "6                           0.0       1369.000000  \n",
       "8                           0.0       1095.609863  \n",
       "10                          0.0       1024.000000  "
      ]
     },
     "execution_count": 64,
     "metadata": {},
     "output_type": "execute_result"
    }
   ],
   "source": [
    "#First, we create a new variable for squared temperature\n",
    "sub_hour['Avg_temp_squared']=sub_hour['Avg_temp_per_hour']**2\n",
    "sub_hour.head()"
   ]
  },
  {
   "cell_type": "code",
   "execution_count": 65,
   "id": "d45f63f1",
   "metadata": {},
   "outputs": [],
   "source": [
    "# Reshape the variables into NumPy arrays and put them into separate objects.\n",
    "\n",
    "X = sub_hour[['Avg_temp_per_hour','Avg_temp_squared', 'Avg_precip_per_hour']].values\n",
    "y = sub_hour['City_accidents_per_hour'].values.reshape(-1,1)"
   ]
  },
  {
   "cell_type": "code",
   "execution_count": 66,
   "id": "624f1856",
   "metadata": {},
   "outputs": [],
   "source": [
    "# Split data into a training set and a test set.\n",
    "\n",
    "X_train, X_test, y_train, y_test = train_test_split(X, y, test_size=0.3, random_state=0)"
   ]
  },
  {
   "cell_type": "code",
   "execution_count": 67,
   "id": "c85cb094",
   "metadata": {},
   "outputs": [
    {
     "data": {
      "text/plain": [
       "LinearRegression()"
      ]
     },
     "execution_count": 67,
     "metadata": {},
     "output_type": "execute_result"
    }
   ],
   "source": [
    "# Fit the regression object onto the training set.\n",
    "\n",
    "regression.fit(X_train, y_train)"
   ]
  },
  {
   "cell_type": "code",
   "execution_count": 68,
   "id": "99eb4000",
   "metadata": {},
   "outputs": [],
   "source": [
    "# Predict the values of y using X.\n",
    "\n",
    "y_predicted = regression.predict(X_test)"
   ]
  },
  {
   "cell_type": "code",
   "execution_count": 69,
   "id": "68f3c8b0",
   "metadata": {},
   "outputs": [],
   "source": [
    "# Create objects that contain the model summary statistics.\n",
    "\n",
    "rmse = mean_squared_error(y_test, y_predicted) # This is the mean squared error\n",
    "r2 = r2_score(y_test, y_predicted) # This is the R2 score. "
   ]
  },
  {
   "cell_type": "code",
   "execution_count": 70,
   "id": "12f0c3f9",
   "metadata": {},
   "outputs": [
    {
     "name": "stdout",
     "output_type": "stream",
     "text": [
      "Slope: [[-4.351941e-03  7.380342e-05  1.263818e-01]]\n",
      "Mean squared error:  1.2438060109334987\n",
      "R2 score:  0.005234758625743519\n"
     ]
    }
   ],
   "source": [
    "# Print the model summary statistics. This is where you evaluate the performance of the model.\n",
    "\n",
    "print('Slope:' ,regression.coef_)\n",
    "print('Mean squared error: ', rmse)\n",
    "print('R2 score: ', r2)"
   ]
  },
  {
   "cell_type": "code",
   "execution_count": 71,
   "id": "1a0b70c2",
   "metadata": {},
   "outputs": [
    {
     "data": {
      "text/plain": [
       "array([[1.4190814],\n",
       "       [1.3683721],\n",
       "       [1.2897985],\n",
       "       ...,\n",
       "       [1.2760563],\n",
       "       [1.5347816],\n",
       "       [1.2651073]], dtype=float32)"
      ]
     },
     "execution_count": 71,
     "metadata": {},
     "output_type": "execute_result"
    }
   ],
   "source": [
    "y_predicted"
   ]
  },
  {
   "cell_type": "code",
   "execution_count": 72,
   "id": "76372ace",
   "metadata": {},
   "outputs": [
    {
     "data": {
      "text/html": [
       "<div>\n",
       "<style scoped>\n",
       "    .dataframe tbody tr th:only-of-type {\n",
       "        vertical-align: middle;\n",
       "    }\n",
       "\n",
       "    .dataframe tbody tr th {\n",
       "        vertical-align: top;\n",
       "    }\n",
       "\n",
       "    .dataframe thead th {\n",
       "        text-align: right;\n",
       "    }\n",
       "</style>\n",
       "<table border=\"1\" class=\"dataframe\">\n",
       "  <thead>\n",
       "    <tr style=\"text-align: right;\">\n",
       "      <th></th>\n",
       "      <th>Actual</th>\n",
       "      <th>Predicted</th>\n",
       "    </tr>\n",
       "  </thead>\n",
       "  <tbody>\n",
       "    <tr>\n",
       "      <th>0</th>\n",
       "      <td>4</td>\n",
       "      <td>1.419081</td>\n",
       "    </tr>\n",
       "    <tr>\n",
       "      <th>1</th>\n",
       "      <td>1</td>\n",
       "      <td>1.368372</td>\n",
       "    </tr>\n",
       "    <tr>\n",
       "      <th>2</th>\n",
       "      <td>1</td>\n",
       "      <td>1.289798</td>\n",
       "    </tr>\n",
       "    <tr>\n",
       "      <th>3</th>\n",
       "      <td>1</td>\n",
       "      <td>1.483842</td>\n",
       "    </tr>\n",
       "    <tr>\n",
       "      <th>4</th>\n",
       "      <td>1</td>\n",
       "      <td>1.298981</td>\n",
       "    </tr>\n",
       "    <tr>\n",
       "      <th>5</th>\n",
       "      <td>1</td>\n",
       "      <td>1.483842</td>\n",
       "    </tr>\n",
       "    <tr>\n",
       "      <th>6</th>\n",
       "      <td>1</td>\n",
       "      <td>1.491963</td>\n",
       "    </tr>\n",
       "    <tr>\n",
       "      <th>7</th>\n",
       "      <td>2</td>\n",
       "      <td>1.404255</td>\n",
       "    </tr>\n",
       "    <tr>\n",
       "      <th>8</th>\n",
       "      <td>1</td>\n",
       "      <td>1.292606</td>\n",
       "    </tr>\n",
       "    <tr>\n",
       "      <th>9</th>\n",
       "      <td>2</td>\n",
       "      <td>1.462573</td>\n",
       "    </tr>\n",
       "    <tr>\n",
       "      <th>10</th>\n",
       "      <td>1</td>\n",
       "      <td>1.500232</td>\n",
       "    </tr>\n",
       "    <tr>\n",
       "      <th>11</th>\n",
       "      <td>1</td>\n",
       "      <td>1.287139</td>\n",
       "    </tr>\n",
       "    <tr>\n",
       "      <th>12</th>\n",
       "      <td>1</td>\n",
       "      <td>1.445452</td>\n",
       "    </tr>\n",
       "    <tr>\n",
       "      <th>13</th>\n",
       "      <td>1</td>\n",
       "      <td>1.281359</td>\n",
       "    </tr>\n",
       "    <tr>\n",
       "      <th>14</th>\n",
       "      <td>1</td>\n",
       "      <td>1.280047</td>\n",
       "    </tr>\n",
       "    <tr>\n",
       "      <th>15</th>\n",
       "      <td>1</td>\n",
       "      <td>1.483842</td>\n",
       "    </tr>\n",
       "    <tr>\n",
       "      <th>16</th>\n",
       "      <td>2</td>\n",
       "      <td>1.475869</td>\n",
       "    </tr>\n",
       "    <tr>\n",
       "      <th>17</th>\n",
       "      <td>1</td>\n",
       "      <td>1.289798</td>\n",
       "    </tr>\n",
       "    <tr>\n",
       "      <th>18</th>\n",
       "      <td>1</td>\n",
       "      <td>1.442009</td>\n",
       "    </tr>\n",
       "    <tr>\n",
       "      <th>19</th>\n",
       "      <td>1</td>\n",
       "      <td>1.417397</td>\n",
       "    </tr>\n",
       "    <tr>\n",
       "      <th>20</th>\n",
       "      <td>1</td>\n",
       "      <td>1.295560</td>\n",
       "    </tr>\n",
       "    <tr>\n",
       "      <th>21</th>\n",
       "      <td>1</td>\n",
       "      <td>1.287139</td>\n",
       "    </tr>\n",
       "    <tr>\n",
       "      <th>22</th>\n",
       "      <td>1</td>\n",
       "      <td>1.475869</td>\n",
       "    </tr>\n",
       "    <tr>\n",
       "      <th>23</th>\n",
       "      <td>2</td>\n",
       "      <td>1.552942</td>\n",
       "    </tr>\n",
       "    <tr>\n",
       "      <th>24</th>\n",
       "      <td>1</td>\n",
       "      <td>1.385649</td>\n",
       "    </tr>\n",
       "    <tr>\n",
       "      <th>25</th>\n",
       "      <td>1</td>\n",
       "      <td>1.391704</td>\n",
       "    </tr>\n",
       "    <tr>\n",
       "      <th>26</th>\n",
       "      <td>2</td>\n",
       "      <td>1.508648</td>\n",
       "    </tr>\n",
       "    <tr>\n",
       "      <th>27</th>\n",
       "      <td>1</td>\n",
       "      <td>1.491963</td>\n",
       "    </tr>\n",
       "    <tr>\n",
       "      <th>28</th>\n",
       "      <td>1</td>\n",
       "      <td>1.491963</td>\n",
       "    </tr>\n",
       "    <tr>\n",
       "      <th>29</th>\n",
       "      <td>1</td>\n",
       "      <td>1.289798</td>\n",
       "    </tr>\n",
       "  </tbody>\n",
       "</table>\n",
       "</div>"
      ],
      "text/plain": [
       "    Actual  Predicted\n",
       "0        4   1.419081\n",
       "1        1   1.368372\n",
       "2        1   1.289798\n",
       "3        1   1.483842\n",
       "4        1   1.298981\n",
       "5        1   1.483842\n",
       "6        1   1.491963\n",
       "7        2   1.404255\n",
       "8        1   1.292606\n",
       "9        2   1.462573\n",
       "10       1   1.500232\n",
       "11       1   1.287139\n",
       "12       1   1.445452\n",
       "13       1   1.281359\n",
       "14       1   1.280047\n",
       "15       1   1.483842\n",
       "16       2   1.475869\n",
       "17       1   1.289798\n",
       "18       1   1.442009\n",
       "19       1   1.417397\n",
       "20       1   1.295560\n",
       "21       1   1.287139\n",
       "22       1   1.475869\n",
       "23       2   1.552942\n",
       "24       1   1.385649\n",
       "25       1   1.391704\n",
       "26       2   1.508648\n",
       "27       1   1.491963\n",
       "28       1   1.491963\n",
       "29       1   1.289798"
      ]
     },
     "execution_count": 72,
     "metadata": {},
     "output_type": "execute_result"
    }
   ],
   "source": [
    "# Create a dataframe comparing the actual and predicted values of y.\n",
    "\n",
    "data = pd.DataFrame({'Actual': y_test.flatten(), 'Predicted': y_predicted.flatten()})\n",
    "data.head(30)"
   ]
  },
  {
   "cell_type": "markdown",
   "id": "4e3c851f",
   "metadata": {},
   "source": [
    "#### We can see that the model performed a bit better than the previous 2 models in terms of R2 (RMSE is higher than the 1st model), however it is still a poor fit for explaining variations in accident numbers."
   ]
  },
  {
   "cell_type": "markdown",
   "id": "5ad4f3cc",
   "metadata": {},
   "source": [
    "## b. Predicting severe accidents proportion"
   ]
  },
  {
   "cell_type": "code",
   "execution_count": 73,
   "id": "0cb7cec1",
   "metadata": {},
   "outputs": [],
   "source": [
    "# Reshape the variables into NumPy arrays and put them into separate objects.\n",
    "\n",
    "X = sub_hour[['Avg_temp_per_hour','Avg_temp_squared', 'Avg_precip_per_hour']].values\n",
    "y = sub_hour['Severe_accidents_proportion'].values.reshape(-1,1)"
   ]
  },
  {
   "cell_type": "code",
   "execution_count": 74,
   "id": "88014eb8",
   "metadata": {},
   "outputs": [],
   "source": [
    "# Split data into a training set and a test set.\n",
    "\n",
    "X_train, X_test, y_train, y_test = train_test_split(X, y, test_size=0.3, random_state=0)"
   ]
  },
  {
   "cell_type": "code",
   "execution_count": 75,
   "id": "bfb58344",
   "metadata": {},
   "outputs": [
    {
     "data": {
      "text/plain": [
       "LinearRegression()"
      ]
     },
     "execution_count": 75,
     "metadata": {},
     "output_type": "execute_result"
    }
   ],
   "source": [
    "# Fit the regression object onto the training set.\n",
    "\n",
    "regression.fit(X_train, y_train)"
   ]
  },
  {
   "cell_type": "code",
   "execution_count": 76,
   "id": "c98aede8",
   "metadata": {},
   "outputs": [],
   "source": [
    "# Predict the values of y using X.\n",
    "\n",
    "y_predicted = regression.predict(X_test)"
   ]
  },
  {
   "cell_type": "code",
   "execution_count": 77,
   "id": "46f76238",
   "metadata": {},
   "outputs": [],
   "source": [
    "# Create objects that contain the model summary statistics.\n",
    "\n",
    "rmse = mean_squared_error(y_test, y_predicted) # This is the mean squared error\n",
    "r2 = r2_score(y_test, y_predicted) # This is the R2 score. "
   ]
  },
  {
   "cell_type": "code",
   "execution_count": 78,
   "id": "c9404818",
   "metadata": {},
   "outputs": [
    {
     "name": "stdout",
     "output_type": "stream",
     "text": [
      "Slope: [[-5.6922366e-04  3.4145387e-06  5.8292798e-03]]\n",
      "Mean squared error:  0.034855518307982704\n",
      "R2 score:  0.0004943123777347846\n"
     ]
    }
   ],
   "source": [
    "# Print the model summary statistics. This is where you evaluate the performance of the model.\n",
    "\n",
    "print('Slope:' ,regression.coef_)\n",
    "print('Mean squared error: ', rmse)\n",
    "print('R2 score: ', r2)"
   ]
  },
  {
   "cell_type": "code",
   "execution_count": 79,
   "id": "05066b85",
   "metadata": {},
   "outputs": [
    {
     "data": {
      "text/plain": [
       "array([[0.03723665],\n",
       "       [0.03792557],\n",
       "       [0.04128005],\n",
       "       ...,\n",
       "       [0.04285154],\n",
       "       [0.03716332],\n",
       "       [0.04801033]], dtype=float32)"
      ]
     },
     "execution_count": 79,
     "metadata": {},
     "output_type": "execute_result"
    }
   ],
   "source": [
    "y_predicted"
   ]
  },
  {
   "cell_type": "code",
   "execution_count": 80,
   "id": "92b7805e",
   "metadata": {},
   "outputs": [
    {
     "data": {
      "text/html": [
       "<div>\n",
       "<style scoped>\n",
       "    .dataframe tbody tr th:only-of-type {\n",
       "        vertical-align: middle;\n",
       "    }\n",
       "\n",
       "    .dataframe tbody tr th {\n",
       "        vertical-align: top;\n",
       "    }\n",
       "\n",
       "    .dataframe thead th {\n",
       "        text-align: right;\n",
       "    }\n",
       "</style>\n",
       "<table border=\"1\" class=\"dataframe\">\n",
       "  <thead>\n",
       "    <tr style=\"text-align: right;\">\n",
       "      <th></th>\n",
       "      <th>Actual</th>\n",
       "      <th>Predicted</th>\n",
       "    </tr>\n",
       "  </thead>\n",
       "  <tbody>\n",
       "    <tr>\n",
       "      <th>0</th>\n",
       "      <td>0.0</td>\n",
       "      <td>0.037237</td>\n",
       "    </tr>\n",
       "    <tr>\n",
       "      <th>1</th>\n",
       "      <td>0.0</td>\n",
       "      <td>0.037926</td>\n",
       "    </tr>\n",
       "    <tr>\n",
       "      <th>2</th>\n",
       "      <td>0.0</td>\n",
       "      <td>0.041280</td>\n",
       "    </tr>\n",
       "    <tr>\n",
       "      <th>3</th>\n",
       "      <td>0.0</td>\n",
       "      <td>0.037014</td>\n",
       "    </tr>\n",
       "    <tr>\n",
       "      <th>4</th>\n",
       "      <td>0.0</td>\n",
       "      <td>0.040564</td>\n",
       "    </tr>\n",
       "    <tr>\n",
       "      <th>5</th>\n",
       "      <td>0.0</td>\n",
       "      <td>0.037014</td>\n",
       "    </tr>\n",
       "    <tr>\n",
       "      <th>6</th>\n",
       "      <td>0.0</td>\n",
       "      <td>0.037022</td>\n",
       "    </tr>\n",
       "    <tr>\n",
       "      <th>7</th>\n",
       "      <td>0.0</td>\n",
       "      <td>0.037378</td>\n",
       "    </tr>\n",
       "    <tr>\n",
       "      <th>8</th>\n",
       "      <td>0.0</td>\n",
       "      <td>0.041042</td>\n",
       "    </tr>\n",
       "    <tr>\n",
       "      <th>9</th>\n",
       "      <td>1.0</td>\n",
       "      <td>0.037518</td>\n",
       "    </tr>\n",
       "    <tr>\n",
       "      <th>10</th>\n",
       "      <td>0.0</td>\n",
       "      <td>0.037036</td>\n",
       "    </tr>\n",
       "    <tr>\n",
       "      <th>11</th>\n",
       "      <td>0.0</td>\n",
       "      <td>0.041525</td>\n",
       "    </tr>\n",
       "    <tr>\n",
       "      <th>12</th>\n",
       "      <td>0.0</td>\n",
       "      <td>0.037077</td>\n",
       "    </tr>\n",
       "    <tr>\n",
       "      <th>13</th>\n",
       "      <td>0.0</td>\n",
       "      <td>0.042140</td>\n",
       "    </tr>\n",
       "    <tr>\n",
       "      <th>14</th>\n",
       "      <td>0.0</td>\n",
       "      <td>0.042300</td>\n",
       "    </tr>\n",
       "    <tr>\n",
       "      <th>15</th>\n",
       "      <td>0.0</td>\n",
       "      <td>0.037014</td>\n",
       "    </tr>\n",
       "    <tr>\n",
       "      <th>16</th>\n",
       "      <td>0.0</td>\n",
       "      <td>0.037013</td>\n",
       "    </tr>\n",
       "    <tr>\n",
       "      <th>17</th>\n",
       "      <td>0.0</td>\n",
       "      <td>0.041280</td>\n",
       "    </tr>\n",
       "    <tr>\n",
       "      <th>18</th>\n",
       "      <td>0.0</td>\n",
       "      <td>0.037285</td>\n",
       "    </tr>\n",
       "    <tr>\n",
       "      <th>19</th>\n",
       "      <td>0.0</td>\n",
       "      <td>0.037251</td>\n",
       "    </tr>\n",
       "    <tr>\n",
       "      <th>20</th>\n",
       "      <td>0.0</td>\n",
       "      <td>0.040811</td>\n",
       "    </tr>\n",
       "    <tr>\n",
       "      <th>21</th>\n",
       "      <td>0.0</td>\n",
       "      <td>0.041525</td>\n",
       "    </tr>\n",
       "    <tr>\n",
       "      <th>22</th>\n",
       "      <td>0.0</td>\n",
       "      <td>0.037013</td>\n",
       "    </tr>\n",
       "    <tr>\n",
       "      <th>23</th>\n",
       "      <td>0.0</td>\n",
       "      <td>0.037268</td>\n",
       "    </tr>\n",
       "    <tr>\n",
       "      <th>24</th>\n",
       "      <td>0.0</td>\n",
       "      <td>0.037621</td>\n",
       "    </tr>\n",
       "    <tr>\n",
       "      <th>25</th>\n",
       "      <td>0.0</td>\n",
       "      <td>0.037533</td>\n",
       "    </tr>\n",
       "    <tr>\n",
       "      <th>26</th>\n",
       "      <td>0.0</td>\n",
       "      <td>0.037058</td>\n",
       "    </tr>\n",
       "    <tr>\n",
       "      <th>27</th>\n",
       "      <td>0.0</td>\n",
       "      <td>0.037022</td>\n",
       "    </tr>\n",
       "    <tr>\n",
       "      <th>28</th>\n",
       "      <td>0.0</td>\n",
       "      <td>0.037022</td>\n",
       "    </tr>\n",
       "    <tr>\n",
       "      <th>29</th>\n",
       "      <td>0.0</td>\n",
       "      <td>0.041280</td>\n",
       "    </tr>\n",
       "  </tbody>\n",
       "</table>\n",
       "</div>"
      ],
      "text/plain": [
       "    Actual  Predicted\n",
       "0      0.0   0.037237\n",
       "1      0.0   0.037926\n",
       "2      0.0   0.041280\n",
       "3      0.0   0.037014\n",
       "4      0.0   0.040564\n",
       "5      0.0   0.037014\n",
       "6      0.0   0.037022\n",
       "7      0.0   0.037378\n",
       "8      0.0   0.041042\n",
       "9      1.0   0.037518\n",
       "10     0.0   0.037036\n",
       "11     0.0   0.041525\n",
       "12     0.0   0.037077\n",
       "13     0.0   0.042140\n",
       "14     0.0   0.042300\n",
       "15     0.0   0.037014\n",
       "16     0.0   0.037013\n",
       "17     0.0   0.041280\n",
       "18     0.0   0.037285\n",
       "19     0.0   0.037251\n",
       "20     0.0   0.040811\n",
       "21     0.0   0.041525\n",
       "22     0.0   0.037013\n",
       "23     0.0   0.037268\n",
       "24     0.0   0.037621\n",
       "25     0.0   0.037533\n",
       "26     0.0   0.037058\n",
       "27     0.0   0.037022\n",
       "28     0.0   0.037022\n",
       "29     0.0   0.041280"
      ]
     },
     "execution_count": 80,
     "metadata": {},
     "output_type": "execute_result"
    }
   ],
   "source": [
    "# Create a dataframe comparing the actual and predicted values of y.\n",
    "\n",
    "data = pd.DataFrame({'Actual': y_test.flatten(), 'Predicted': y_predicted.flatten()})\n",
    "data.head(30)"
   ]
  },
  {
   "cell_type": "markdown",
   "id": "a1f86525",
   "metadata": {},
   "source": [
    "#### We can see that this model is slightly better than the previous model in terms of R2 but it is not good at predicting variations in severe accidents proportion."
   ]
  },
  {
   "cell_type": "markdown",
   "id": "d514e43d",
   "metadata": {},
   "source": [
    "# 07. Conclusion"
   ]
  },
  {
   "cell_type": "markdown",
   "id": "c0504c8a",
   "metadata": {},
   "source": [
    "#### The current analysis has shown that the models I've performed cannot be used to properly explain the variations in the car accidents number/severe accidents proportion. However, it does not mean that the weather conditions do not affect these variables. The control variables used in this analysis were limited, so we cannot reject the hypothesis that the weather condition affects the number of accidents/severe accidents proportion. The unwillingness of people to drive during severe weather conditions causes a bias in this analysis, leading us to think that the weather conditions don't effect the car accidents.  "
   ]
  },
  {
   "cell_type": "markdown",
   "id": "2eafcde9",
   "metadata": {},
   "source": [
    "# 08. Exporting data"
   ]
  },
  {
   "cell_type": "code",
   "execution_count": 82,
   "id": "806babf9",
   "metadata": {},
   "outputs": [],
   "source": [
    "sub_hour.to_pickle(os.path.join(path, '02 Data', 'Prepared Data', 'Severity_proportion.pkl'))"
   ]
  },
  {
   "cell_type": "code",
   "execution_count": null,
   "id": "b39eae15",
   "metadata": {},
   "outputs": [],
   "source": []
  }
 ],
 "metadata": {
  "kernelspec": {
   "display_name": "Python 3 (ipykernel)",
   "language": "python",
   "name": "python3"
  },
  "language_info": {
   "codemirror_mode": {
    "name": "ipython",
    "version": 3
   },
   "file_extension": ".py",
   "mimetype": "text/x-python",
   "name": "python",
   "nbconvert_exporter": "python",
   "pygments_lexer": "ipython3",
   "version": "3.9.12"
  }
 },
 "nbformat": 4,
 "nbformat_minor": 5
}
